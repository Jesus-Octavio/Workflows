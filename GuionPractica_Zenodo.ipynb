{
 "cells": [
  {
   "cell_type": "markdown",
   "metadata": {},
   "source": [
    "# WORKFLOWS. DATA LIFE CYCLE\n",
    "## AUTOR: Jesús Octavio Raboso\n",
    "## GitHub: \n",
    "\n",
    "Los enunciados y resultados vistos en clase están en azul. El contenido de eñaboración propia está en negro."
   ]
  },
  {
   "cell_type": "markdown",
   "metadata": {},
   "source": [
    "# <font color='blue'>Workflow\n",
    "\n",
    "<font color='blue'>En esta práctica vamos a aplicar lo aprendido en esta asignatura para crear un flujo que automatice la descarga, análisis y publicación de los datos utilizando distintas herramientas como Zenodo, github y librerías de python para el análisis de datos\n",
    "\n",
    "### <font color='blue'>Librerías necesarias para la práctica\n",
    "\n",
    "```python\n",
    "import xml.etree.ElementTree as ET\n",
    "import requests\n",
    "import json\n",
    "import zipfile\n",
    "```\n",
    "\n",
    "### <font color='blue'>Elementos necesarios</font>\n",
    "* <font color='blue'>Al menos un fichero CSV</font>\n",
    "* <font color='blue'>Un script de análisis de datos en CSV (Publicado en Github)</font>\n"
   ]
  },
  {
   "cell_type": "markdown",
   "metadata": {},
   "source": [
    "# <font color='blue'>Publicación de datos iniciales</font>\n",
    "\n",
    "<font color='blue'>Utilizando Zenodo, de forma manual, publicar los datos que se vayan a utilizar.</font>\n",
    "\n",
    "<div class=\"alert alert-warning\" role=\"alert\" style=\"margin: 10px\">\n",
    "<p>Utilizar Communities para localizar más facilmente los datos</p>\n",
    "</div>\n"
   ]
  },
  {
   "cell_type": "markdown",
   "metadata": {},
   "source": [
    "# <font color='blue'>Publicación de script de Análisis</font>\n",
    "\n",
    "<font color='blue'>En Github + Zenodo</font>"
   ]
  },
  {
   "cell_type": "markdown",
   "metadata": {},
   "source": [
    "# <font color='blue'>Descarga de datos</font>\n",
    "\n",
    "<font color='blue'>Desde Zenodo, utilizando los métodos conocidos (OAI-PMH, API)</font>\n",
    "\n",
    "<font color='blue'>Pista: url+'?verb=ListRecords&set=nombre_set</font>"
   ]
  },
  {
   "cell_type": "code",
   "execution_count": 1,
   "metadata": {},
   "outputs": [],
   "source": [
    "import requests\n",
    "import json\n",
    "import csv\n",
    "from datetime import datetime\n",
    "import xml.etree.cElementTree as ET\n",
    "import os"
   ]
  },
  {
   "cell_type": "markdown",
   "metadata": {},
   "source": [
    "<font color='blue'>Un par de funciones para búsqueda</font>"
   ]
  },
  {
   "cell_type": "code",
   "execution_count": 2,
   "metadata": {},
   "outputs": [],
   "source": [
    "def search_dataset(url, oai_set, metadata_format):\n",
    "    \"\"\"Search the datasets identifiers in the defined set\n",
    "        Parameters\n",
    "        ----------\n",
    "        url : string\n",
    "            OAI-PMH endpoint url\n",
    "        oai_set : string\n",
    "            OAI-PMH set where the datasets will be searched\n",
    "        metadata_format : string\n",
    "            Selected metadata format to search\n",
    "        Returns\n",
    "        -------\n",
    "        dataset_ids : array \n",
    "            Dataset IDs\n",
    "    \"\"\"\n",
    "    #Define bounds to search in specific set\n",
    "    bounds = \"&set=\"+oai_set\n",
    "    print(url+'?verb=ListRecords&metadataPrefix='+metadata_format+bounds)\n",
    "    oai = requests.get(url+'?verb=ListRecords&metadataPrefix='+metadata_format+bounds)\n",
    "\n",
    "    oaiTree = ET.ElementTree(ET.fromstring(oai.text.encode('utf-8')))\n",
    "    item = oaiTree.findall('.//{http://datacite.org/schema/kernel-3}identifier')\n",
    "    return item"
   ]
  },
  {
   "cell_type": "code",
   "execution_count": 3,
   "metadata": {},
   "outputs": [],
   "source": [
    "def get_oai_metadata_formats(url):\n",
    "    \"\"\"Lists the available metadata formats\n",
    "        Parameters\n",
    "        ----------\n",
    "        url : string\n",
    "            OAI-PMH endpoint url\n",
    "        Returns\n",
    "        -------\n",
    "        metadata_formats : \n",
    "            Name of the downloaded file(s).\n",
    "    \"\"\"\n",
    "    metadata_formats = []\n",
    "    oai_verb = '?verb=ListMetadataFormats'\n",
    "    oai = requests.get(url + oai_verb) #Peticion al servidor\n",
    "    xmlTree = ET.ElementTree(ET.fromstring(oai.text))\n",
    "    iterator = xmlTree.iter()\n",
    "    for elem in iterator:\n",
    "        if (elem.tag == '{http://www.openarchives.org/OAI/2.0/}metadataPrefix'):\n",
    "            metadata_formats.append(elem.text)\n",
    "    return metadata_formats"
   ]
  },
  {
   "cell_type": "code",
   "execution_count": 4,
   "metadata": {},
   "outputs": [],
   "source": [
    "def check_dataset(ids,api_url,tipo):\n",
    "    \"\"\"Checks if the available datasets satisfy the dates and location req\n",
    "        Parameters\n",
    "        ----------\n",
    "        ids : array\n",
    "            List of dataset ids\n",
    "        api_url : string\n",
    "            API to get dataset metadata\n",
    "        tipo : string\n",
    "            type of file to download\n",
    "        Returns\n",
    "        -------\n",
    "        downloaded_datasets : array \n",
    "            List of downloaded datasets\n",
    "    \"\"\"\n",
    "    file_list = []\n",
    "    for i in ids:\n",
    "        headers = {'accept': 'application/json'}\n",
    "        #TODO Manage different types of identifiers (i.text.replace('record', 'api/records'),headers))\n",
    "        r = requests.get('https://doi.org/'+i.text,headers)\n",
    "        r = requests.get(r.url.replace('record', 'api/records'),headers)\n",
    "        for u in r.json()['files']:\n",
    "            print(\"Type found: %s\" % u['type'])\n",
    "            if u['type'] == tipo:\n",
    "                print(u['links']['self'])\n",
    "                link = u['links']['self']\n",
    "                file_name = u[\"key\"].replace('/','_')\n",
    "                with open(file_name, \"wb\") as f:\n",
    "                    print(\"Downloading %s\" % file_name)\n",
    "                    response = requests.get(link, stream=True)\n",
    "                    total_length = response.headers.get('content-length')\n",
    "\n",
    "                    if total_length is None: # no content length header\n",
    "                        f.write(response.content)\n",
    "                    else:\n",
    "                        dl = 0\n",
    "                        total_length = int(total_length)\n",
    "                        for data in response.iter_content(chunk_size=4096):\n",
    "                            dl += len(data)\n",
    "                            f.write(data)\n",
    "                            done = int(50 * dl / total_length)\n",
    "                            sys.stdout.write(\"\\r[%s%s]\" % ('=' * done, ' ' * (50-done)) )    \n",
    "                            sys.stdout.flush()\n",
    "                file_list.append(file_name)\n",
    "                print(\"Download complete\")     \n",
    "                                \n",
    "    return file_list"
   ]
  },
  {
   "cell_type": "markdown",
   "metadata": {},
   "source": [
    "<font color='blue'>Busco el dataset</font>"
   ]
  },
  {
   "cell_type": "code",
   "execution_count": 5,
   "metadata": {},
   "outputs": [
    {
     "name": "stdout",
     "output_type": "stream",
     "text": [
      "Searching datasets OAI-PMH\n",
      "Searching Datasets\n",
      "https://zenodo.org/oai2d?verb=ListRecords&metadataPrefix=oai_datacite3&set=user-cdp\n",
      "[<Element '{http://datacite.org/schema/kernel-3}identifier' at 0x7fd58c50c9b0>, <Element '{http://datacite.org/schema/kernel-3}identifier' at 0x7fd58c50def0>, <Element '{http://datacite.org/schema/kernel-3}identifier' at 0x7fd58c513230>, <Element '{http://datacite.org/schema/kernel-3}identifier' at 0x7fd58c51a470>, <Element '{http://datacite.org/schema/kernel-3}identifier' at 0x7fd58c51d6b0>, <Element '{http://datacite.org/schema/kernel-3}identifier' at 0x7fd58c521890>, <Element '{http://datacite.org/schema/kernel-3}identifier' at 0x7fd58c5258f0>, <Element '{http://datacite.org/schema/kernel-3}identifier' at 0x7fd58c07f110>]\n",
      "Checking/download Datasets\n",
      "Type found: zip\n",
      "Type found: xml\n",
      "Type found: xml\n",
      "Type found: xml\n",
      "Type found: xml\n",
      "Type found: nc\n",
      "Type found: csv\n",
      "https://zenodo.org/api/files/73f3573e-3dd9-48af-bca1-2e3948baeb2c/amt_2010.csv\n",
      "Downloading amt_2010.csv\n",
      "Download complete\n",
      "Type found: csv\n",
      "https://zenodo.org/api/files/c9da53e0-d4eb-4636-88c5-e422f81b8734/amt_2010.csv\n",
      "Downloading amt_2010.csv\n",
      "Download complete\n",
      "['amt_2010.csv', 'amt_2010.csv']\n"
     ]
    }
   ],
   "source": [
    "import sys\n",
    "#Searching datasets OAI-PMH\n",
    "print(\"Searching datasets OAI-PMH\")\n",
    "oai_url = 'https://zenodo.org/oai2d'\n",
    "metadata_formats = get_oai_metadata_formats(oai_url)\n",
    "\n",
    "#TODO hardcoded\n",
    "print(\"Searching Datasets\")\n",
    "oai_set = 'user-cdp'\n",
    "dataset_list = search_dataset(oai_url,oai_set,'oai_datacite3')\n",
    "print(dataset_list)\n",
    "\n",
    "print(\"Checking/download Datasets\")\n",
    "api_url = 'https://doi.org/'\n",
    "\n",
    "csv_files = check_dataset(dataset_list,api_url,'csv')\n",
    "print(csv_files)"
   ]
  },
  {
   "cell_type": "code",
   "execution_count": 6,
   "metadata": {},
   "outputs": [
    {
     "data": {
      "image/png": "[encoded data removed]",
      "text/plain": [
       "<Figure size 432x288 with 1 Axes>"
      ]
     },
     "metadata": {
      "needs_background": "light"
     },
     "output_type": "display_data"
    }
   ],
   "source": [
    "import pandas as pd\n",
    "import matplotlib.pyplot as plt\n",
    "\n",
    "data = pd.read_csv('amt_2010.csv',delimiter=';')\n",
    "data['date'] = pd.to_datetime(data['date'])\n",
    "data.plot(x='date', y='Temp')\n",
    "plt.show()"
   ]
  },
  {
   "cell_type": "code",
   "execution_count": 7,
   "metadata": {},
   "outputs": [
    {
     "name": "stdout",
     "output_type": "stream",
     "text": [
      "amt_2010.csv  GuionPractica_Zenodo.ipynb        my_problem.py\r\n",
      "\u001b[0m\u001b[01;35manalysis.png\u001b[0m  M3.02Workflow_resuelto2022.ipynb  plot.py\r\n"
     ]
    }
   ],
   "source": [
    "ls"
   ]
  },
  {
   "cell_type": "code",
   "execution_count": 8,
   "metadata": {},
   "outputs": [
    {
     "name": "stdout",
     "output_type": "stream",
     "text": [
      "Number of arguments: 2 arguments\n",
      "Argument List:['plot.py', 'amt_2010.csv']\n"
     ]
    },
    {
     "data": {
      "image/png": "[encoded data removed]",
      "text/plain": [
       "<Figure size 432x288 with 1 Axes>"
      ]
     },
     "metadata": {
      "needs_background": "light"
     },
     "output_type": "display_data"
    }
   ],
   "source": [
    "%run -i plot.py amt_2010.csv"
   ]
  },
  {
   "cell_type": "markdown",
   "metadata": {},
   "source": [
    "# <font color='blue'>Descarga de código</font>\n",
    "\n",
    "<font color='blue'>Desde Zenodo, utilizando los métodos conocidos (OAI-PMH, API)</font>\n",
    "\n",
    "<div class=\"alert alert-warning\" role=\"alert\" style=\"margin: 10px\">\n",
    "<p>Zenodo guarda un zip con el código</p>\n",
    "</div>"
   ]
  },
  {
   "cell_type": "code",
   "execution_count": 9,
   "metadata": {},
   "outputs": [
    {
     "name": "stdout",
     "output_type": "stream",
     "text": [
      "Searching software OAI-PMH\n",
      "Searching Software\n",
      "https://zenodo.org/oai2d?verb=ListRecords&metadataPrefix=oai_datacite&set=user-cdp\n",
      "[<Element '{http://datacite.org/schema/kernel-3}identifier' at 0x7fd550803110>, <Element '{http://datacite.org/schema/kernel-3}identifier' at 0x7fd550802650>, <Element '{http://datacite.org/schema/kernel-3}identifier' at 0x7fd550801950>, <Element '{http://datacite.org/schema/kernel-3}identifier' at 0x7fd5507ffa10>, <Element '{http://datacite.org/schema/kernel-3}identifier' at 0x7fd5507fec50>, <Element '{http://datacite.org/schema/kernel-3}identifier' at 0x7fd5507fbe30>, <Element '{http://datacite.org/schema/kernel-3}identifier' at 0x7fd5507f7e90>, <Element '{http://datacite.org/schema/kernel-3}identifier' at 0x7fd5511706b0>]\n",
      "Checking/download Datasets\n",
      "Type found: zip\n",
      "https://zenodo.org/api/files/eb080151-e76f-4523-99fc-c2bc8638115c/ferag/csvprinter-1.01.zip\n",
      "Downloading ferag_csvprinter-1.01.zip\n",
      "[==================================================]Download complete\n",
      "Type found: xml\n",
      "Type found: xml\n",
      "Type found: xml\n",
      "Type found: xml\n",
      "Type found: nc\n",
      "Type found: csv\n",
      "Type found: csv\n",
      "['ferag_csvprinter-1.01.zip']\n"
     ]
    }
   ],
   "source": [
    " #Searching code OAI-PMH\n",
    "print(\"Searching software OAI-PMH\")\n",
    "oai_url = 'https://zenodo.org/oai2d'\n",
    "metadata_formats = get_oai_metadata_formats(oai_url)\n",
    "\n",
    "#TODO hardcoded\n",
    "print(\"Searching Software\")\n",
    "oai_set = 'user-cdp'\n",
    "dataset_list = search_dataset(oai_url,oai_set,'oai_datacite')\n",
    "print(dataset_list)\n",
    "\n",
    "print(\"Checking/download Datasets\")\n",
    "api_url = 'https://doi.org/'\n",
    "\n",
    "zip_files = check_dataset(dataset_list,api_url,'zip')\n",
    "print(zip_files)"
   ]
  },
  {
   "cell_type": "code",
   "execution_count": 10,
   "metadata": {},
   "outputs": [],
   "source": [
    "import zipfile\n",
    "with zipfile.ZipFile(\"ferag_csvprinter-1.01.zip\",\"r\") as zip_ref:\n",
    "    zip_ref.extractall(\".\")"
   ]
  },
  {
   "cell_type": "code",
   "execution_count": 11,
   "metadata": {},
   "outputs": [
    {
     "name": "stdout",
     "output_type": "stream",
     "text": [
      "plot.py  README.md\r\n"
     ]
    }
   ],
   "source": [
    "ls ferag-csvprinter-59552e7"
   ]
  },
  {
   "cell_type": "markdown",
   "metadata": {},
   "source": [
    "# <font color='blue'>Análisis de los datos</font>\n",
    "\n",
    "<font color='blue'>Producir fichero: Otro CSV, imagen, etc</font>"
   ]
  },
  {
   "cell_type": "code",
   "execution_count": 12,
   "metadata": {},
   "outputs": [
    {
     "name": "stdout",
     "output_type": "stream",
     "text": [
      "Number of arguments: 2 arguments\n",
      "Argument List:['ferag-csvprinter-59552e7/plot.py', 'amt_2010.csv']\n"
     ]
    },
    {
     "data": {
      "image/png": "[encoded data removed]",
      "text/plain": [
       "<Figure size 432x288 with 1 Axes>"
      ]
     },
     "metadata": {
      "needs_background": "light"
     },
     "output_type": "display_data"
    }
   ],
   "source": [
    "# Saves plot @ ferag-csvprinter-59552e7\n",
    "%run -i ferag-csvprinter-59552e7/plot.py amt_2010.csv"
   ]
  },
  {
   "cell_type": "markdown",
   "metadata": {},
   "source": [
    "# <font color='blue'>Publicación de los Datos</font>\n",
    "\n",
    "<font color='blue'>Utilizando la API de Zenodo</font>"
   ]
  },
  {
   "cell_type": "code",
   "execution_count": 13,
   "metadata": {},
   "outputs": [
    {
     "data": {
      "text/plain": [
       "[{'conceptrecid': '1442720',\n",
       "  'created': '2018-10-02T13:15:30.984794',\n",
       "  'doi': '',\n",
       "  'doi_url': 'https://doi.org/',\n",
       "  'files': [{'checksum': 'af0b4a4bbe3930b0ea61538bca6497f2',\n",
       "    'filename': 'electricom.png',\n",
       "    'filesize': 315,\n",
       "    'id': '9dfa096d-489d-4059-be91-5a782c9841d9',\n",
       "    'links': {'download': 'https://zenodo.org/api/files/a33cf662-1d2d-4e7b-97a3-3d4c0a15dded/electricom.png',\n",
       "     'self': 'https://zenodo.org/api/deposit/depositions/1442721/files/9dfa096d-489d-4059-be91-5a782c9841d9'}}],\n",
       "  'id': 1442721,\n",
       "  'links': {'bucket': 'https://zenodo.org/api/files/a33cf662-1d2d-4e7b-97a3-3d4c0a15dded',\n",
       "   'discard': 'https://zenodo.org/api/deposit/depositions/1442721/actions/discard',\n",
       "   'edit': 'https://zenodo.org/api/deposit/depositions/1442721/actions/edit',\n",
       "   'files': 'https://zenodo.org/api/deposit/depositions/1442721/files',\n",
       "   'html': 'https://zenodo.org/deposit/1442721',\n",
       "   'latest_draft': 'https://zenodo.org/api/deposit/depositions/1442721',\n",
       "   'latest_draft_html': 'https://zenodo.org/deposit/1442721',\n",
       "   'publish': 'https://zenodo.org/api/deposit/depositions/1442721/actions/publish',\n",
       "   'self': 'https://zenodo.org/api/deposit/depositions/1442721',\n",
       "   'thumb250': 'https://zenodo.org/api/iiif/v2/a33cf662-1d2d-4e7b-97a3-3d4c0a15dded:f19699f7-eced-46f0-948e-0f1d239a0978:electricom.png/full/250,/0/default.png',\n",
       "   'thumbs': {'10': 'https://zenodo.org/record/1442721/thumb10',\n",
       "    '100': 'https://zenodo.org/record/1442721/thumb100',\n",
       "    '1200': 'https://zenodo.org/record/1442721/thumb1200',\n",
       "    '250': 'https://zenodo.org/record/1442721/thumb250',\n",
       "    '50': 'https://zenodo.org/record/1442721/thumb50',\n",
       "    '750': 'https://zenodo.org/record/1442721/thumb750'}},\n",
       "  'metadata': {'access_right': 'open',\n",
       "   'creators': [{'affiliation': 'CSIC', 'name': 'Doe, John'}],\n",
       "   'description': 'This is my first upload',\n",
       "   'doi': '',\n",
       "   'license': 'CC-BY-4.0',\n",
       "   'prereserve_doi': {'doi': '10.5281/zenodo.1442721', 'recid': 1442721},\n",
       "   'publication_date': '2022-02-07',\n",
       "   'title': 'My first upload',\n",
       "   'upload_type': 'poster'},\n",
       "  'modified': '2022-02-07T02:41:10.081018',\n",
       "  'owner': 34647,\n",
       "  'record_id': 1442721,\n",
       "  'state': 'unsubmitted',\n",
       "  'submitted': False,\n",
       "  'title': 'My first upload'},\n",
       " {'conceptrecid': '5987863',\n",
       "  'created': '2022-02-06T21:08:35.910753',\n",
       "  'id': 5987864,\n",
       "  'links': {'discard': 'https://zenodo.org/api/deposit/depositions/5987864/actions/discard',\n",
       "   'edit': 'https://zenodo.org/api/deposit/depositions/5987864/actions/edit',\n",
       "   'files': 'https://zenodo.org/api/deposit/depositions/5987864/files',\n",
       "   'html': 'https://zenodo.org/deposit/5987864',\n",
       "   'publish': 'https://zenodo.org/api/deposit/depositions/5987864/actions/publish',\n",
       "   'self': 'https://zenodo.org/api/deposit/depositions/5987864'},\n",
       "  'metadata': {'prereserve_doi': {'doi': '10.5281/zenodo.5987864',\n",
       "    'recid': 5987864}},\n",
       "  'modified': '2022-02-06T21:08:35.910761',\n",
       "  'owner': 34647,\n",
       "  'record_id': 5987864,\n",
       "  'state': 'unsubmitted',\n",
       "  'submitted': False,\n",
       "  'title': ''},\n",
       " {'conceptdoi': '10.5281/zenodo.5950739',\n",
       "  'conceptrecid': '5950739',\n",
       "  'created': '2022-02-02T22:09:29.526026',\n",
       "  'doi': '10.5281/zenodo.5950740',\n",
       "  'doi_url': 'https://doi.org/10.5281/zenodo.5950740',\n",
       "  'files': [{'checksum': 'e1fcad3244e2d24836bdec46c677ea29',\n",
       "    'filename': 'resultados.png',\n",
       "    'filesize': 1257,\n",
       "    'id': 'c4163e88-03d2-411e-bad3-86bcaca92f16',\n",
       "    'links': {'download': 'https://zenodo.org/api/files/34db12b3-70f8-4ba4-975e-6a2a1b52f2c6/resultados.png',\n",
       "     'self': 'https://zenodo.org/api/deposit/depositions/5950740/files/c4163e88-03d2-411e-bad3-86bcaca92f16'}}],\n",
       "  'id': 5950740,\n",
       "  'links': {'badge': 'https://zenodo.org/badge/doi/10.5281/zenodo.5950740.svg',\n",
       "   'bucket': 'https://zenodo.org/api/files/0fd8e283-5cc8-4bd0-95ca-bcc252ae2bcf',\n",
       "   'conceptbadge': 'https://zenodo.org/badge/doi/10.5281/zenodo.5950739.svg',\n",
       "   'conceptdoi': 'https://doi.org/10.5281/zenodo.5950739',\n",
       "   'discard': 'https://zenodo.org/api/deposit/depositions/5950740/actions/discard',\n",
       "   'doi': 'https://doi.org/10.5281/zenodo.5950740',\n",
       "   'edit': 'https://zenodo.org/api/deposit/depositions/5950740/actions/edit',\n",
       "   'files': 'https://zenodo.org/api/deposit/depositions/5950740/files',\n",
       "   'html': 'https://zenodo.org/deposit/5950740',\n",
       "   'latest': 'https://zenodo.org/api/records/5950740',\n",
       "   'latest_html': 'https://zenodo.org/record/5950740',\n",
       "   'publish': 'https://zenodo.org/api/deposit/depositions/5950740/actions/publish',\n",
       "   'record': 'https://zenodo.org/api/records/5950740',\n",
       "   'record_html': 'https://zenodo.org/record/5950740',\n",
       "   'self': 'https://zenodo.org/api/deposit/depositions/5950740',\n",
       "   'thumb250': 'https://zenodo.org/api/iiif/v2/34db12b3-70f8-4ba4-975e-6a2a1b52f2c6:bbe92d73-4ab6-4517-bb27-af2b16316001:resultados.png/full/250,/0/default.png',\n",
       "   'thumbs': {'10': 'https://zenodo.org/record/5950740/thumb10',\n",
       "    '100': 'https://zenodo.org/record/5950740/thumb100',\n",
       "    '1200': 'https://zenodo.org/record/5950740/thumb1200',\n",
       "    '250': 'https://zenodo.org/record/5950740/thumb250',\n",
       "    '50': 'https://zenodo.org/record/5950740/thumb50',\n",
       "    '750': 'https://zenodo.org/record/5950740/thumb750'}},\n",
       "  'metadata': {'access_right': 'open',\n",
       "   'creators': [{'affiliation': 'UIMP', 'name': 'Lopez, Sara'}],\n",
       "   'description': 'Gráfica descriptiva de la evolución de casos de coronavirus en Cantabria desde Enero de 2020 a Enero de 2021',\n",
       "   'doi': '10.5281/zenodo.5950740',\n",
       "   'license': 'CC-BY-4.0',\n",
       "   'prereserve_doi': {'doi': '10.5281/zenodo.5950740', 'recid': 5950740},\n",
       "   'publication_date': '2022-02-02',\n",
       "   'title': 'Casos de COVID-19 en Cantabria',\n",
       "   'upload_type': 'poster'},\n",
       "  'modified': '2022-02-02T22:09:43.395646',\n",
       "  'owner': 34647,\n",
       "  'record_id': 5950740,\n",
       "  'state': 'done',\n",
       "  'submitted': True,\n",
       "  'title': 'Casos de COVID-19 en Cantabria'},\n",
       " {'conceptdoi': '10.5281/zenodo.5950723',\n",
       "  'conceptrecid': '5950723',\n",
       "  'created': '2022-02-02T22:05:46.961388',\n",
       "  'doi': '10.5281/zenodo.5950724',\n",
       "  'doi_url': 'https://doi.org/10.5281/zenodo.5950724',\n",
       "  'files': [{'checksum': 'e1fcad3244e2d24836bdec46c677ea29',\n",
       "    'filename': 'resultados.png',\n",
       "    'filesize': 1257,\n",
       "    'id': 'ace2b0a9-d77c-4c6d-8fc9-5d3f2bf5aea2',\n",
       "    'links': {'download': 'https://zenodo.org/api/files/65171290-30b0-4606-b0c1-98f8eaeeafd0/resultados.png',\n",
       "     'self': 'https://zenodo.org/api/deposit/depositions/5950724/files/ace2b0a9-d77c-4c6d-8fc9-5d3f2bf5aea2'}}],\n",
       "  'id': 5950724,\n",
       "  'links': {'badge': 'https://zenodo.org/badge/doi/10.5281/zenodo.5950724.svg',\n",
       "   'bucket': 'https://zenodo.org/api/files/1aa4ff65-7d49-4d16-8af2-1afdf1910bef',\n",
       "   'conceptbadge': 'https://zenodo.org/badge/doi/10.5281/zenodo.5950723.svg',\n",
       "   'conceptdoi': 'https://doi.org/10.5281/zenodo.5950723',\n",
       "   'discard': 'https://zenodo.org/api/deposit/depositions/5950724/actions/discard',\n",
       "   'doi': 'https://doi.org/10.5281/zenodo.5950724',\n",
       "   'edit': 'https://zenodo.org/api/deposit/depositions/5950724/actions/edit',\n",
       "   'files': 'https://zenodo.org/api/deposit/depositions/5950724/files',\n",
       "   'html': 'https://zenodo.org/deposit/5950724',\n",
       "   'latest': 'https://zenodo.org/api/records/5950724',\n",
       "   'latest_html': 'https://zenodo.org/record/5950724',\n",
       "   'publish': 'https://zenodo.org/api/deposit/depositions/5950724/actions/publish',\n",
       "   'record': 'https://zenodo.org/api/records/5950724',\n",
       "   'record_html': 'https://zenodo.org/record/5950724',\n",
       "   'self': 'https://zenodo.org/api/deposit/depositions/5950724',\n",
       "   'thumb250': 'https://zenodo.org/api/iiif/v2/65171290-30b0-4606-b0c1-98f8eaeeafd0:12b83ae2-068a-4520-9b68-0eddcb2dc92a:resultados.png/full/250,/0/default.png',\n",
       "   'thumbs': {'10': 'https://zenodo.org/record/5950724/thumb10',\n",
       "    '100': 'https://zenodo.org/record/5950724/thumb100',\n",
       "    '1200': 'https://zenodo.org/record/5950724/thumb1200',\n",
       "    '250': 'https://zenodo.org/record/5950724/thumb250',\n",
       "    '50': 'https://zenodo.org/record/5950724/thumb50',\n",
       "    '750': 'https://zenodo.org/record/5950724/thumb750'}},\n",
       "  'metadata': {'access_right': 'open',\n",
       "   'creators': [{'affiliation': 'UIMP', 'name': 'López, Sara'}],\n",
       "   'description': 'Gráfica descriptiva de la evolución de casos de coronavirus en Cantabria desde Enero de 2020 a Enero de 2021',\n",
       "   'doi': '10.5281/zenodo.5950724',\n",
       "   'license': 'CC-BY-4.0',\n",
       "   'prereserve_doi': {'doi': '10.5281/zenodo.5950724', 'recid': 5950724},\n",
       "   'publication_date': '2022-02-02',\n",
       "   'title': 'Casos de COVID-19 en Cantabria',\n",
       "   'upload_type': 'poster'},\n",
       "  'modified': '2022-02-02T22:07:25.911129',\n",
       "  'owner': 34647,\n",
       "  'record_id': 5950724,\n",
       "  'state': 'done',\n",
       "  'submitted': True,\n",
       "  'title': 'Casos de COVID-19 en Cantabria'},\n",
       " {'conceptrecid': '5950714',\n",
       "  'created': '2022-02-02T21:54:37.666917',\n",
       "  'id': 5950715,\n",
       "  'links': {'discard': 'https://zenodo.org/api/deposit/depositions/5950715/actions/discard',\n",
       "   'edit': 'https://zenodo.org/api/deposit/depositions/5950715/actions/edit',\n",
       "   'files': 'https://zenodo.org/api/deposit/depositions/5950715/files',\n",
       "   'html': 'https://zenodo.org/deposit/5950715',\n",
       "   'publish': 'https://zenodo.org/api/deposit/depositions/5950715/actions/publish',\n",
       "   'self': 'https://zenodo.org/api/deposit/depositions/5950715'},\n",
       "  'metadata': {'prereserve_doi': {'doi': '10.5281/zenodo.5950715',\n",
       "    'recid': 5950715}},\n",
       "  'modified': '2022-02-02T21:54:37.666927',\n",
       "  'owner': 34647,\n",
       "  'record_id': 5950715,\n",
       "  'state': 'unsubmitted',\n",
       "  'submitted': False,\n",
       "  'title': ''},\n",
       " {'conceptrecid': '5949958',\n",
       "  'created': '2022-02-02T20:34:45.060913',\n",
       "  'id': 5949959,\n",
       "  'links': {'discard': 'https://zenodo.org/api/deposit/depositions/5949959/actions/discard',\n",
       "   'edit': 'https://zenodo.org/api/deposit/depositions/5949959/actions/edit',\n",
       "   'files': 'https://zenodo.org/api/deposit/depositions/5949959/files',\n",
       "   'html': 'https://zenodo.org/deposit/5949959',\n",
       "   'publish': 'https://zenodo.org/api/deposit/depositions/5949959/actions/publish',\n",
       "   'self': 'https://zenodo.org/api/deposit/depositions/5949959'},\n",
       "  'metadata': {'prereserve_doi': {'doi': '10.5281/zenodo.5949959',\n",
       "    'recid': 5949959}},\n",
       "  'modified': '2022-02-02T20:34:45.060921',\n",
       "  'owner': 34647,\n",
       "  'record_id': 5949959,\n",
       "  'state': 'unsubmitted',\n",
       "  'submitted': False,\n",
       "  'title': ''},\n",
       " {'conceptrecid': '5949946',\n",
       "  'created': '2022-02-02T20:33:55.039859',\n",
       "  'id': 5949947,\n",
       "  'links': {'discard': 'https://zenodo.org/api/deposit/depositions/5949947/actions/discard',\n",
       "   'edit': 'https://zenodo.org/api/deposit/depositions/5949947/actions/edit',\n",
       "   'files': 'https://zenodo.org/api/deposit/depositions/5949947/files',\n",
       "   'html': 'https://zenodo.org/deposit/5949947',\n",
       "   'publish': 'https://zenodo.org/api/deposit/depositions/5949947/actions/publish',\n",
       "   'self': 'https://zenodo.org/api/deposit/depositions/5949947'},\n",
       "  'metadata': {'prereserve_doi': {'doi': '10.5281/zenodo.5949947',\n",
       "    'recid': 5949947}},\n",
       "  'modified': '2022-02-02T20:33:55.039869',\n",
       "  'owner': 34647,\n",
       "  'record_id': 5949947,\n",
       "  'state': 'unsubmitted',\n",
       "  'submitted': False,\n",
       "  'title': ''},\n",
       " {'conceptdoi': '10.5281/zenodo.840079',\n",
       "  'conceptrecid': '840079',\n",
       "  'created': '2019-04-26T13:08:50.514362',\n",
       "  'doi': '10.5281/zenodo.2652248',\n",
       "  'doi_url': 'https://doi.org/10.5281/zenodo.2652248',\n",
       "  'files': [{'checksum': '494d680fc80c92ab6a92c8808d52caa0',\n",
       "    'filename': 'amt_prototype.xml',\n",
       "    'filesize': 13632,\n",
       "    'id': '284c520c-5d3d-4184-aab8-50efe99ce9fa',\n",
       "    'links': {'download': 'https://zenodo.org/api/files/5516c3d1-dfa0-4a4c-86ab-8ec372130261/amt_prototype.xml',\n",
       "     'self': 'https://zenodo.org/api/deposit/depositions/2652248/files/284c520c-5d3d-4184-aab8-50efe99ce9fa'}}],\n",
       "  'id': 2652248,\n",
       "  'links': {'badge': 'https://zenodo.org/badge/doi/10.5281/zenodo.2652248.svg',\n",
       "   'bucket': 'https://zenodo.org/api/files/91fc7a0f-3dcb-47a1-92c3-6314af5a70b6',\n",
       "   'conceptbadge': 'https://zenodo.org/badge/doi/10.5281/zenodo.840079.svg',\n",
       "   'conceptdoi': 'https://doi.org/10.5281/zenodo.840079',\n",
       "   'discard': 'https://zenodo.org/api/deposit/depositions/2652248/actions/discard',\n",
       "   'doi': 'https://doi.org/10.5281/zenodo.2652248',\n",
       "   'edit': 'https://zenodo.org/api/deposit/depositions/2652248/actions/edit',\n",
       "   'files': 'https://zenodo.org/api/deposit/depositions/2652248/files',\n",
       "   'html': 'https://zenodo.org/deposit/2652248',\n",
       "   'latest': 'https://zenodo.org/api/records/2652248',\n",
       "   'latest_html': 'https://zenodo.org/record/2652248',\n",
       "   'publish': 'https://zenodo.org/api/deposit/depositions/2652248/actions/publish',\n",
       "   'record': 'https://zenodo.org/api/records/2652248',\n",
       "   'record_html': 'https://zenodo.org/record/2652248',\n",
       "   'self': 'https://zenodo.org/api/deposit/depositions/2652248'},\n",
       "  'metadata': {'access_right': 'open',\n",
       "   'communities': [{'identifier': 'cdp'}, {'identifier': 'test2022'}],\n",
       "   'creators': [{'affiliation': 'CSIC', 'name': 'Aguilar Gomez, Fernando'},\n",
       "    {'affiliation': 'CSIC', 'name': 'Marco, Jesús'},\n",
       "    {'affiliation': 'IFCA', 'name': 'Garcia, Daniel'}],\n",
       "   'description': '<p>EML metadata document used as prototype for Cuerda del Pozo reservoir research.</p>',\n",
       "   'doi': '10.5281/zenodo.2652248',\n",
       "   'keywords': ['metadata; EML; Ecology'],\n",
       "   'license': 'CC-BY-4.0',\n",
       "   'prereserve_doi': {'doi': '10.5281/zenodo.2652248', 'recid': 2652248},\n",
       "   'publication_date': '2017-08-08',\n",
       "   'title': 'Metadata AMT 2010 Dataset',\n",
       "   'upload_type': 'dataset'},\n",
       "  'modified': '2022-01-24T15:22:29.808588',\n",
       "  'owner': 34647,\n",
       "  'record_id': 2652248,\n",
       "  'state': 'done',\n",
       "  'submitted': True,\n",
       "  'title': 'Metadata AMT 2010 Dataset'},\n",
       " {'conceptdoi': '10.5281/zenodo.4274923',\n",
       "  'conceptrecid': '4274923',\n",
       "  'created': '2020-11-15T20:56:05.975064',\n",
       "  'doi': '10.5281/zenodo.4274924',\n",
       "  'doi_url': 'https://doi.org/10.5281/zenodo.4274924',\n",
       "  'files': [{'checksum': '3aa1027988d61aefbf261f751bd86072',\n",
       "    'filename': 'ferag/locco2-0.5.zip',\n",
       "    'filesize': 16612,\n",
       "    'id': '42fedb15-d86f-4964-a93e-df0d10b6a9e9',\n",
       "    'links': {'download': 'https://zenodo.org/api/files/95d2dac5-199b-45dc-8a6a-0cb44b803de1/ferag/locco2-0.5.zip',\n",
       "     'self': 'https://zenodo.org/api/deposit/depositions/4274924/files/42fedb15-d86f-4964-a93e-df0d10b6a9e9'}}],\n",
       "  'id': 4274924,\n",
       "  'links': {'badge': 'https://zenodo.org/badge/doi/10.5281/zenodo.4274924.svg',\n",
       "   'bucket': 'https://zenodo.org/api/files/e5466865-4120-49f7-bdd7-182d0189ca53',\n",
       "   'conceptbadge': 'https://zenodo.org/badge/doi/10.5281/zenodo.4274923.svg',\n",
       "   'conceptdoi': 'https://doi.org/10.5281/zenodo.4274923',\n",
       "   'discard': 'https://zenodo.org/api/deposit/depositions/4274924/actions/discard',\n",
       "   'doi': 'https://doi.org/10.5281/zenodo.4274924',\n",
       "   'edit': 'https://zenodo.org/api/deposit/depositions/4274924/actions/edit',\n",
       "   'files': 'https://zenodo.org/api/deposit/depositions/4274924/files',\n",
       "   'html': 'https://zenodo.org/deposit/4274924',\n",
       "   'latest': 'https://zenodo.org/api/records/4274924',\n",
       "   'latest_html': 'https://zenodo.org/record/4274924',\n",
       "   'publish': 'https://zenodo.org/api/deposit/depositions/4274924/actions/publish',\n",
       "   'record': 'https://zenodo.org/api/records/4274924',\n",
       "   'record_html': 'https://zenodo.org/record/4274924',\n",
       "   'self': 'https://zenodo.org/api/deposit/depositions/4274924'},\n",
       "  'metadata': {'access_right': 'open',\n",
       "   'creators': [{'affiliation': '@IFCA', 'name': 'Fernando Aguilar'}],\n",
       "   'description': 'Low Cost CO2 data logger',\n",
       "   'doi': '10.5281/zenodo.4274924',\n",
       "   'license': 'other-open',\n",
       "   'prereserve_doi': {'doi': '10.5281/zenodo.4274924', 'recid': 4274924},\n",
       "   'publication_date': '2020-11-15',\n",
       "   'related_identifiers': [{'identifier': 'https://github.com/ferag/locco2/tree/0.5',\n",
       "     'relation': 'isSupplementTo',\n",
       "     'scheme': 'url'}],\n",
       "   'title': 'ferag/locco2 0.5',\n",
       "   'upload_type': 'software',\n",
       "   'version': '0.5'},\n",
       "  'modified': '2020-11-15T20:56:09.500383',\n",
       "  'owner': 34647,\n",
       "  'record_id': 4274924,\n",
       "  'state': 'done',\n",
       "  'submitted': True,\n",
       "  'title': 'ferag/locco2 0.5'},\n",
       " {'conceptdoi': '10.5281/zenodo.3609014',\n",
       "  'conceptrecid': '3609014',\n",
       "  'created': '2020-01-15T16:04:24.555613',\n",
       "  'doi': '10.5281/zenodo.3609015',\n",
       "  'doi_url': 'https://doi.org/10.5281/zenodo.3609015',\n",
       "  'files': [{'checksum': '6cdb9a0ec9089e97f20f2965b3f0160c',\n",
       "    'filename': 'ferag/DataManagement-1.0.zip',\n",
       "    'filesize': 6082,\n",
       "    'id': 'a67fd271-34ae-4a50-a1e0-27404f3f066f',\n",
       "    'links': {'download': 'https://zenodo.org/api/files/5e48bfba-dcc7-440d-9f0f-10ef3294a676/ferag/DataManagement-1.0.zip',\n",
       "     'self': 'https://zenodo.org/api/deposit/depositions/3609015/files/a67fd271-34ae-4a50-a1e0-27404f3f066f'}}],\n",
       "  'id': 3609015,\n",
       "  'links': {'badge': 'https://zenodo.org/badge/doi/10.5281/zenodo.3609015.svg',\n",
       "   'bucket': 'https://zenodo.org/api/files/c001fa57-c215-4f5a-8e18-c66d994d534e',\n",
       "   'conceptbadge': 'https://zenodo.org/badge/doi/10.5281/zenodo.3609014.svg',\n",
       "   'conceptdoi': 'https://doi.org/10.5281/zenodo.3609014',\n",
       "   'discard': 'https://zenodo.org/api/deposit/depositions/3609015/actions/discard',\n",
       "   'doi': 'https://doi.org/10.5281/zenodo.3609015',\n",
       "   'edit': 'https://zenodo.org/api/deposit/depositions/3609015/actions/edit',\n",
       "   'files': 'https://zenodo.org/api/deposit/depositions/3609015/files',\n",
       "   'html': 'https://zenodo.org/deposit/3609015',\n",
       "   'latest': 'https://zenodo.org/api/records/3609015',\n",
       "   'latest_html': 'https://zenodo.org/record/3609015',\n",
       "   'publish': 'https://zenodo.org/api/deposit/depositions/3609015/actions/publish',\n",
       "   'record': 'https://zenodo.org/api/records/3609015',\n",
       "   'record_html': 'https://zenodo.org/record/3609015',\n",
       "   'self': 'https://zenodo.org/api/deposit/depositions/3609015'},\n",
       "  'metadata': {'access_right': 'open',\n",
       "   'creators': [{'affiliation': '@IFCA', 'name': 'Fernando Aguilar'}],\n",
       "   'description': 'PhDcode',\n",
       "   'doi': '10.5281/zenodo.3609015',\n",
       "   'license': 'other-open',\n",
       "   'prereserve_doi': {'doi': '10.5281/zenodo.3609015', 'recid': 3609015},\n",
       "   'publication_date': '2020-01-15',\n",
       "   'related_identifiers': [{'identifier': 'https://github.com/ferag/DataManagement/tree/1.0',\n",
       "     'relation': 'isSupplementTo',\n",
       "     'scheme': 'url'}],\n",
       "   'title': 'ferag/DataManagement: Test',\n",
       "   'upload_type': 'software',\n",
       "   'version': '1.0'},\n",
       "  'modified': '2020-01-15T16:04:27.489185',\n",
       "  'owner': 34647,\n",
       "  'record_id': 3609015,\n",
       "  'state': 'done',\n",
       "  'submitted': True,\n",
       "  'title': 'ferag/DataManagement: Test'}]"
      ]
     },
     "execution_count": 13,
     "metadata": {},
     "output_type": "execute_result"
    }
   ],
   "source": [
    "ACCESS_TOKEN = 'p6fKXiwn7ABPVLC2Y85b1rUOwso46jHpTbPzXY97DxZB4x4cHUv65JJQkvVy'\n",
    "r = requests.get('https://zenodo.org/api/deposit/depositions',params={'access_token': ACCESS_TOKEN})\n",
    "r.status_code  \n",
    "r.json()"
   ]
  },
  {
   "cell_type": "code",
   "execution_count": 14,
   "metadata": {},
   "outputs": [
    {
     "data": {
      "text/plain": [
       "400"
      ]
     },
     "execution_count": 14,
     "metadata": {},
     "output_type": "execute_result"
    }
   ],
   "source": [
    "deposition_id = \"1442721\"\n",
    "data = {'name': 'electricom.png'}\n",
    "files = {'file': open('plot.py', 'rb')}\n",
    "r = requests.post('https://zenodo.org/api/deposit/depositions/%s/files' % deposition_id,\n",
    "                  params={'access_token': ACCESS_TOKEN}, data=data,\n",
    "                  files=files)\n",
    "r.status_code"
   ]
  },
  {
   "cell_type": "code",
   "execution_count": 15,
   "metadata": {},
   "outputs": [
    {
     "data": {
      "text/plain": [
       "415"
      ]
     },
     "execution_count": 15,
     "metadata": {},
     "output_type": "execute_result"
    }
   ],
   "source": [
    "data = {\n",
    "    'metadata': {\n",
    "        'title': 'My first upload',\n",
    "        'upload_type': 'poster',\n",
    "        'description': 'This is my first upload',\n",
    "        'creators': [{'name': 'Doe, John',\n",
    "                      'affiliation': 'CSIC'}]\n",
    "    }\n",
    "}\n",
    "\n",
    "headers = {'accept': 'application/json'}\n",
    "r = requests.put('https://zenodo.org/api/deposit/depositions/%s' % deposition_id,\n",
    "                 params={'access_token': ACCESS_TOKEN}, data=json.dumps(data),\n",
    "                 headers=headers)\n",
    "r.status_code"
   ]
  },
  {
   "cell_type": "code",
   "execution_count": 16,
   "metadata": {},
   "outputs": [
    {
     "data": {
      "text/plain": [
       "{'status': 415, 'message': 'Unsupported media type \"\".'}"
      ]
     },
     "execution_count": 16,
     "metadata": {},
     "output_type": "execute_result"
    }
   ],
   "source": [
    "r.json()"
   ]
  },
  {
   "cell_type": "markdown",
   "metadata": {},
   "source": [
    "# INICIO EJERCICIO PERSONAL."
   ]
  },
  {
   "cell_type": "markdown",
   "metadata": {},
   "source": [
    "En Zenodo, ehmos creado la comunidad https://zenodo.org/communities/jordlc/ Visítese en enlace para ver su contenido. En dicha comunidad hemos subido los archivos que vamos a necesitar. \n",
    "\n",
    "BiciMAD es un medio de transporte público de la ciudad de Madrid de bicicletas eléctricas. Su objetivo es proporcionar un elemento alternativo de transporte limpio y saludable al ciudadano y fomentar el uso de la bicicleta en la ciudad.\n",
    "\n",
    "A día de hoy, posee 2964 bicicletas, 6315 anclajes y 264 estaciones. \n",
    "\n",
    "BiciMAD destaca por el empleo de las TIC y la Comunicación para mejorar la experiencia del usuario. Dispone de información en tiempo real de bicicletas y estaciones dispobibles, acceso a la propia base de datos, web... \n",
    "\n",
    "Para más información sobre BiciMAD, puede consultarse: https://www.bicimad.com/\n",
    "\n",
    "\n",
    "En el portal de datos en abierto del ayuntamiento de Madrid, https://datos.madrid.es/portal/site/egob, pueden encontrarse múltiples datasets relativos al servicio de BiciMAD que abordan que recogen la posición geográfica de los anclajes, los datos de losviajes desglosados por meses, años, ....\n",
    "\n",
    "Para más información sobre el contenido de los datsaets: https://opendata.emtmadrid.es/Documentos/Servicios-y-estructuras-Bicimad-V1-1.aspx. \n",
    "\n",
    "\n",
    "Las siguientes celdas, son parte de un estudio realizado por Elisa Casado Gómez, Aurora Ruiz de la Puente, Clara Perez Martín, Elisa Saiz y Jesús Octavio Raboso. Puede encontrarse al completo en \n",
    "\n",
    "# https://github.com/Jesus-Octavio/BiciMAD\n",
    "\n",
    "En él, se recogían datos desde Julio de 2018 hasta Junio de 2019. Además, también se abordaba desde un punto de vista geográfico, pues se dispone de datasets con las localizaciones de los anclajes o estaciones. Posteriormente abordaremos una selección de dichos datasets de manera más detallada. \n",
    "\n",
    "\n",
    "En primer lugar, sin tener en cuenta datos de tipo geográfico, se hizo el siguiente análisis.\n",
    "* Computo total de viajes por mes. \n",
    "* Análisis de tipo de usuario por mes. BiciMAD establece 4 tipos de usuario (numerados del 0 al 3). Los usuarios de tipo 0, son aquellos que no tienen tipo definido; los de tipo 1 son aquellos que poseen un abono anual; los de tipo 2 son aquellos ocasionales; los de tipo 3 son trabajadores de BiciMAD: \n",
    "* Para registratse en BiciMAD es neceario poner un código postal, de modo que se realizaba un análisis de usuarios según el código postal de registro para ver la procendencia de dichos usuarios. ¿Son todos de Madrid? ¿Qué comunidad autónoma que no sea Madrid posee más usuarios de BiciMAD ?\n",
    "* Usuarios según rango de edad.\n",
    "* Distribución de los viajes en función de la hora y el día de la semana. \n",
    "\n",
    "\n",
    "A partir de este análisis se escogían dos meses: aquel en el que había más viajes (Junio de 2019) y el de menos viajes (Diciembre de 2018)\n",
    "\n",
    "Seleccionados estos meses, se realizaba un análisis más profundo que consideraba las posiciones geográficas de las bicicletas y estaciones:\n",
    "\n",
    "* Para el peor y el mejor mes, duración media de los trayecto.\n",
    "* Para el peor y el mejor mes, estaciones de destino más habituales.\n",
    "* Para el peor y el mejor mes, estaciones de origen más habituales.\n",
    "* Para el peor y el mejor mes, número de trayectos cuya estación de origen está en el mismo barrio que la estación de destino.\n",
    "* Para el peor y el mejor mes,  número de viajes cuya estación de origen está en un barrio distinto a la estación de destino.\n",
    "* Mapas con `folium`. Para el peor y el mejor mes:\n",
    "    * Duración media de trayectos según estación de origen.\n",
    "    * Ranking de estaciones más visitadas.\n",
    "    * Viajes por barrio.\n",
    "* Grafos y algoritmo de Floyd. Análisis de trayectos mediante grafos e implementación del algoritmo de Floys para, dadas la estación de origen y destino, devolver la ruta más rápida. \n",
    "\n"
   ]
  },
  {
   "cell_type": "markdown",
   "metadata": {},
   "source": [
    "### Buscamos los dataset en Zenodo:\n",
    "\n",
    "Hemos creado la comunidad https://zenodo.org/communities/jordlc/ en la que simplemente he subido el dataset del mejor mes (201906_Usage_Bicimad.json) y el dataset del peor mes (201812_Usage_Bicimad.json). También están subidos los datos de las bases/estaciones/anclajes en dichos meses (Bicimad_Stations_201906.json , Bicimad_Stations_201812.json) y los datos geográficos de las mismas (bases_bicimad.csv, bases_bicimad.xlsx)\n",
    "\n",
    "\n",
    "Puesto que el objetico de esta práctica no es el de analizar los datos de BiciMAD, seleccionaré un par de gráficas y problemas interesantes para realizar lo que se pide. "
   ]
  },
  {
   "cell_type": "markdown",
   "metadata": {},
   "source": [
    "\n",
    "**Harvesting URL:**\n",
    "\n",
    "https://zenodo.org/oai2d?verb=ListRecords&set=user-jordlc&metadataPrefix=oai_dc\n",
    "\n",
    "Above address links to a OAI-PMH feed, which can be used by other digital repositories to harvest this community.\n"
   ]
  },
  {
   "cell_type": "code",
   "execution_count": 17,
   "metadata": {},
   "outputs": [
    {
     "name": "stdout",
     "output_type": "stream",
     "text": [
      "Searching datasets OAI-PMH\n"
     ]
    }
   ],
   "source": [
    "import sys\n",
    "#Searching datasets OAI-PMH\n",
    "print(\"Searching datasets OAI-PMH\")\n",
    "oai_url = 'https://zenodo.org/oai2d'\n",
    "metadata_formats = get_oai_metadata_formats(oai_url)"
   ]
  },
  {
   "cell_type": "code",
   "execution_count": 18,
   "metadata": {},
   "outputs": [
    {
     "name": "stdout",
     "output_type": "stream",
     "text": [
      "Searching Datasets\n",
      "https://zenodo.org/oai2d?verb=ListRecords&metadataPrefix=oai_datacite3&set=user-jordlc\n",
      "[<Element '{http://datacite.org/schema/kernel-3}identifier' at 0x7fd56799d770>, <Element '{http://datacite.org/schema/kernel-3}identifier' at 0x7fd56799fa70>]\n"
     ]
    }
   ],
   "source": [
    "#TODO hardcoded\n",
    "print(\"Searching Datasets\")\n",
    "oai_set = 'user-jordlc'\n",
    "dataset_list = search_dataset(oai_url,oai_set,'oai_datacite3')\n",
    "#dataset_list = search_dataset(oai_url,oai_set,'oai_')\n",
    "print(dataset_list)"
   ]
  },
  {
   "cell_type": "code",
   "execution_count": 19,
   "metadata": {},
   "outputs": [
    {
     "name": "stdout",
     "output_type": "stream",
     "text": [
      "Checking/download Datasets\n",
      "Type found: json\n",
      "Type found: json\n",
      "Type found: csv\n",
      "https://zenodo.org/api/files/3daacf84-af1d-47ad-8f65-4c69cff42723/bases_bicimad.csv\n",
      "Downloading bases_bicimad.csv\n",
      "Download complete\n",
      "Type found: xlsx\n",
      "Type found: json\n",
      "Type found: json\n",
      "Type found: zip\n",
      "['bases_bicimad.csv']\n"
     ]
    }
   ],
   "source": [
    "print(\"Checking/download Datasets\")\n",
    "api_url = 'https://doi.org/'\n",
    "\n",
    "csv_files = check_dataset(dataset_list,api_url,'csv')\n",
    "print(csv_files)"
   ]
  },
  {
   "cell_type": "code",
   "execution_count": 20,
   "metadata": {
    "scrolled": true
   },
   "outputs": [
    {
     "name": "stdout",
     "output_type": "stream",
     "text": [
      "Type found: json\n",
      "https://zenodo.org/api/files/3daacf84-af1d-47ad-8f65-4c69cff42723/201812_Usage_Bicimad.json\n",
      "Downloading 201812_Usage_Bicimad.json\n",
      "Download complete\n",
      "Type found: json\n",
      "https://zenodo.org/api/files/3daacf84-af1d-47ad-8f65-4c69cff42723/201906_Usage_Bicimad.json\n",
      "Downloading 201906_Usage_Bicimad.json\n",
      "Download complete\n",
      "Type found: csv\n",
      "Type found: xlsx\n",
      "Type found: json\n",
      "https://zenodo.org/api/files/3daacf84-af1d-47ad-8f65-4c69cff42723/Bicimad_Stations_201812.json\n",
      "Downloading Bicimad_Stations_201812.json\n",
      "Download complete\n",
      "Type found: json\n",
      "https://zenodo.org/api/files/3daacf84-af1d-47ad-8f65-4c69cff42723/Bicimad_Stations_201906.json\n",
      "Downloading Bicimad_Stations_201906.json\n",
      "Download complete\n",
      "Type found: zip\n",
      "['201812_Usage_Bicimad.json', '201906_Usage_Bicimad.json', 'Bicimad_Stations_201812.json', 'Bicimad_Stations_201906.json']\n"
     ]
    }
   ],
   "source": [
    "json_files = check_dataset(dataset_list,api_url,'json')\n",
    "print(json_files)"
   ]
  },
  {
   "cell_type": "code",
   "execution_count": 21,
   "metadata": {},
   "outputs": [
    {
     "name": "stdout",
     "output_type": "stream",
     "text": [
      "Type found: json\n",
      "Type found: json\n",
      "Type found: csv\n",
      "Type found: xlsx\n",
      "https://zenodo.org/api/files/3daacf84-af1d-47ad-8f65-4c69cff42723/bases_bicimad.xlsx\n",
      "Downloading bases_bicimad.xlsx\n",
      "[==================================================]Download complete\n",
      "Type found: json\n",
      "Type found: json\n",
      "Type found: zip\n",
      "['bases_bicimad.xlsx']\n"
     ]
    }
   ],
   "source": [
    "xlsx_files = check_dataset(dataset_list,api_url,'xlsx')\n",
    "print(xlsx_files)"
   ]
  },
  {
   "cell_type": "markdown",
   "metadata": {},
   "source": [
    "## ANÁLISIS DE DATOS"
   ]
  },
  {
   "cell_type": "code",
   "execution_count": 22,
   "metadata": {},
   "outputs": [
    {
     "name": "stderr",
     "output_type": "stream",
     "text": [
      "22/02/07 10:31:14 WARN NativeCodeLoader: Unable to load native-hadoop library for your platform... using builtin-java classes where applicable\n",
      "Using Spark's default log4j profile: org/apache/spark/log4j-defaults.properties\n",
      "Setting default log level to \"WARN\".\n",
      "To adjust logging level use sc.setLogLevel(newLevel). For SparkR, use setLogLevel(newLevel).\n"
     ]
    }
   ],
   "source": [
    "import numpy as np\n",
    "import pandas as pd\n",
    "import matplotlib.pyplot as plt\n",
    "from pylab import *\n",
    "\n",
    "from pyspark import SparkContext\n",
    "import json\n",
    "\n",
    "sc = SparkContext()"
   ]
  },
  {
   "cell_type": "markdown",
   "metadata": {},
   "source": [
    "Leemos las rdds del mejor y peor mes de acuerdo a los resultados obtenidos en la parte anterior para los viajes filtrados, pues sólo nos interesa trabajar con los viajes que hemos considerado válidos. El peor mes es diciembre de 2018 y el mejor mes es junio de 2019."
   ]
  },
  {
   "cell_type": "code",
   "execution_count": 23,
   "metadata": {},
   "outputs": [],
   "source": [
    "rdd_worst = sc.textFile('201812_Usage_Bicimad.json')\n",
    "rdd_best = sc.textFile('201906_Usage_Bicimad.json')"
   ]
  },
  {
   "cell_type": "markdown",
   "metadata": {},
   "source": [
    "Definimos un mapper, que aplicaremos a la hora de leer los archivos json relativos al peor y mejor mes, para quedarnos únicamente con los datos que van a ser necesarios:\n",
    "\n",
    "    Estación de origen\n",
    "    Estación de destino\n",
    "    Tiempo de viaje\n",
    "\n"
   ]
  },
  {
   "cell_type": "code",
   "execution_count": 24,
   "metadata": {},
   "outputs": [],
   "source": [
    "def mapper(line):\n",
    "    data = json.loads(line)\n",
    "    origin = data['idunplug_station']\n",
    "    destination = data['idplug_station']\n",
    "    travel_time = data['travel_time']\n",
    "    return origin, destination, travel_time"
   ]
  },
  {
   "cell_type": "markdown",
   "metadata": {},
   "source": [
    "Filtramos los viajes por aquellos que duran más de 30 segundos y sus estaciones de origen y destino son distintas. Cada elemento de las rdd rdd_worst_filtered (para el peor mes) y rdd_best_filtered (para el mejor mes) será de la forma:\n",
    "\n",
    "\n",
    "  *(estacion de origen, estacion de destino, tiempo de viaje en segundos)*"
   ]
  },
  {
   "cell_type": "code",
   "execution_count": 25,
   "metadata": {},
   "outputs": [],
   "source": [
    "rdd_worst_filtered = rdd_worst.map(mapper).\\\n",
    "                     filter(lambda x: x[0]!=x[1] and x[2]>30)\n",
    "\n",
    "rdd_best_filtered = rdd_best.map(mapper).\\\n",
    "                    filter(lambda x: x[0]!=x[1] and x[2]>30)"
   ]
  },
  {
   "cell_type": "markdown",
   "metadata": {},
   "source": [
    "A continuación, vamos a desarollar distintos problemas para el mejor y peor mes considerados. Primero calcularemos los datos que nos interesan y después vamos a crear mapas en los que visualizaremos la información de una forma más interactiva."
   ]
  },
  {
   "cell_type": "markdown",
   "metadata": {},
   "source": [
    "### PROBLEMA 1: DURACIÓN MEDIA DE LOS VIAJES\n",
    "\n",
    "\n",
    "\n",
    "Vamos a calcular la duración media de los viajes que parten de una estación. Recordamos que el tiempo se guarda en segundos.\n",
    "\n",
    "En primer lugar, lo hacemos para el peor mes.\n",
    "\n",
    "* Creamos un diccionario en el que las claves son las estaciones de origen y el valor, las veces que aparece en la rdd de viajes filtrados. Es decir, el número de viajes que parten de ella. Será relevente para calcular el tiempo medio.\n",
    "* Nos quedamos con la estación de origen y el tiempo de cada viaje, los reducimos según la clave mediante la suma de valores. Hallamos la media. Los ordenamos según el número de estacion de menor a mayor.\n",
    "\n"
   ]
  },
  {
   "cell_type": "code",
   "execution_count": 26,
   "metadata": {},
   "outputs": [
    {
     "name": "stderr",
     "output_type": "stream",
     "text": [
      "                                                                                \r"
     ]
    },
    {
     "data": {
      "text/plain": [
       "[(1, 2392.098510882016),\n",
       " (2, 4149.476772616137),\n",
       " (3, 1018.5118811881188),\n",
       " (4, 1059.5748829953197),\n",
       " (5, 973.8588235294118)]"
      ]
     },
     "execution_count": 26,
     "metadata": {},
     "output_type": "execute_result"
    }
   ],
   "source": [
    "dict_worst = dict(rdd_worst_filtered.map(lambda x: (x[0], x[2])).\\\n",
    "                              countByKey())\n",
    "\n",
    "rdd_average_time_worst = rdd_worst_filtered.map(lambda x: (x[0],x[2])).\\\n",
    "                        reduceByKey(lambda x,y: x+y).\\\n",
    "                        map(lambda x: (x[0], x[1]/dict_worst[x[0]])).\\\n",
    "                        sortByKey()\n",
    "\n",
    "rdd_average_time_worst.take(5) #Para visualizar cómo quedan los datos"
   ]
  },
  {
   "cell_type": "markdown",
   "metadata": {},
   "source": [
    "Repetimos con el mejor mes."
   ]
  },
  {
   "cell_type": "code",
   "execution_count": 27,
   "metadata": {},
   "outputs": [
    {
     "name": "stderr",
     "output_type": "stream",
     "text": [
      "                                                                                \r"
     ]
    },
    {
     "data": {
      "text/plain": [
       "[(1, 845.8831627250265),\n",
       " (2, 996.0376794258373),\n",
       " (3, 906.6870662460568),\n",
       " (4, 836.7305825242719),\n",
       " (5, 935.4925458715596)]"
      ]
     },
     "execution_count": 27,
     "metadata": {},
     "output_type": "execute_result"
    }
   ],
   "source": [
    "dict_best = dict(rdd_best_filtered.map(lambda x: (x[0], x[2])).\\\n",
    "                              countByKey())\n",
    "\n",
    "rdd_average_time_best = rdd_best_filtered.map(lambda x: (x[0],x[2])).\\\n",
    "                        reduceByKey(lambda x,y: x+y).\\\n",
    "                        map(lambda x: (x[0], x[1]/dict_best[x[0]])).\\\n",
    "                        sortByKey()\n",
    "\n",
    "rdd_average_time_best.take(5)"
   ]
  },
  {
   "cell_type": "markdown",
   "metadata": {},
   "source": [
    "Guardamos la diferencia:"
   ]
  },
  {
   "cell_type": "code",
   "execution_count": 28,
   "metadata": {},
   "outputs": [
    {
     "name": "stderr",
     "output_type": "stream",
     "text": [
      "                                                                                \r"
     ]
    },
    {
     "data": {
      "text/plain": [
       "[(1, 845.8831627250265, 2392.098510882016, -1546.2153481569894),\n",
       " (2, 996.0376794258373, 4149.476772616137, -3153.4390931903),\n",
       " (3, 906.6870662460568, 1018.5118811881188, -111.82481494206195),\n",
       " (4, 836.7305825242719, 1059.5748829953197, -222.84430047104786),\n",
       " (5, 935.4925458715596, 973.8588235294118, -38.36627765785215)]"
      ]
     },
     "execution_count": 28,
     "metadata": {},
     "output_type": "execute_result"
    }
   ],
   "source": [
    "rdd_average_time_comp = rdd_average_time_best.join(rdd_average_time_worst).sortByKey().map(lambda x: (x[0], x[1][0], x[1][1], x[1][0]-x[1][1]))\n",
    "rdd_average_time_comp.take(5)"
   ]
  },
  {
   "cell_type": "markdown",
   "metadata": {},
   "source": [
    "Para hacer mejor un análisis de los datos lo que hacemos es representar los valores obtenidos en una gráfica. Para ello, lo primero que hacemos es crear un Data Frame y un Panda para poder obtener las columnas y hacer la gráfica comparativa."
   ]
  },
  {
   "cell_type": "code",
   "execution_count": 29,
   "metadata": {},
   "outputs": [],
   "source": [
    "from pyspark.sql import SparkSession\n",
    "spark = SparkSession.builder.getOrCreate()"
   ]
  },
  {
   "cell_type": "code",
   "execution_count": 30,
   "metadata": {},
   "outputs": [
    {
     "name": "stderr",
     "output_type": "stream",
     "text": [
      "\r",
      "[Stage 48:====================================================>   (32 + 2) / 34]\r",
      "                                                                                \r"
     ]
    }
   ],
   "source": [
    "dft = spark.createDataFrame(rdd_average_time_comp, schema = ['Station number', 'Average travel time best month','Average travel time worst month', 'Difference best month-worst month' ])\n",
    "pt = dft.toPandas()"
   ]
  },
  {
   "cell_type": "code",
   "execution_count": 31,
   "metadata": {},
   "outputs": [
    {
     "data": {
      "text/html": [
       "<div>\n",
       "<style scoped>\n",
       "    .dataframe tbody tr th:only-of-type {\n",
       "        vertical-align: middle;\n",
       "    }\n",
       "\n",
       "    .dataframe tbody tr th {\n",
       "        vertical-align: top;\n",
       "    }\n",
       "\n",
       "    .dataframe thead th {\n",
       "        text-align: right;\n",
       "    }\n",
       "</style>\n",
       "<table border=\"1\" class=\"dataframe\">\n",
       "  <thead>\n",
       "    <tr style=\"text-align: right;\">\n",
       "      <th></th>\n",
       "      <th>Station number</th>\n",
       "      <th>Average travel time best month</th>\n",
       "      <th>Average travel time worst month</th>\n",
       "      <th>Difference best month-worst month</th>\n",
       "    </tr>\n",
       "  </thead>\n",
       "  <tbody>\n",
       "    <tr>\n",
       "      <th>0</th>\n",
       "      <td>1</td>\n",
       "      <td>845.883163</td>\n",
       "      <td>2392.098511</td>\n",
       "      <td>-1546.215348</td>\n",
       "    </tr>\n",
       "    <tr>\n",
       "      <th>1</th>\n",
       "      <td>2</td>\n",
       "      <td>996.037679</td>\n",
       "      <td>4149.476773</td>\n",
       "      <td>-3153.439093</td>\n",
       "    </tr>\n",
       "    <tr>\n",
       "      <th>2</th>\n",
       "      <td>3</td>\n",
       "      <td>906.687066</td>\n",
       "      <td>1018.511881</td>\n",
       "      <td>-111.824815</td>\n",
       "    </tr>\n",
       "    <tr>\n",
       "      <th>3</th>\n",
       "      <td>4</td>\n",
       "      <td>836.730583</td>\n",
       "      <td>1059.574883</td>\n",
       "      <td>-222.844300</td>\n",
       "    </tr>\n",
       "    <tr>\n",
       "      <th>4</th>\n",
       "      <td>5</td>\n",
       "      <td>935.492546</td>\n",
       "      <td>973.858824</td>\n",
       "      <td>-38.366278</td>\n",
       "    </tr>\n",
       "  </tbody>\n",
       "</table>\n",
       "</div>"
      ],
      "text/plain": [
       "   Station number  Average travel time best month  \\\n",
       "0               1                      845.883163   \n",
       "1               2                      996.037679   \n",
       "2               3                      906.687066   \n",
       "3               4                      836.730583   \n",
       "4               5                      935.492546   \n",
       "\n",
       "   Average travel time worst month  Difference best month-worst month  \n",
       "0                      2392.098511                       -1546.215348  \n",
       "1                      4149.476773                       -3153.439093  \n",
       "2                      1018.511881                        -111.824815  \n",
       "3                      1059.574883                        -222.844300  \n",
       "4                       973.858824                         -38.366278  "
      ]
     },
     "execution_count": 31,
     "metadata": {},
     "output_type": "execute_result"
    }
   ],
   "source": [
    "pt.head()"
   ]
  },
  {
   "cell_type": "code",
   "execution_count": 32,
   "metadata": {},
   "outputs": [],
   "source": [
    "stations = list(pt.iloc[:,0])\n",
    "bm = list(pt.iloc[:,1]) #best month\n",
    "wm = list(pt.iloc[:,2]) #worst month\n",
    "d = list(pt.iloc[:,3]) #difference"
   ]
  },
  {
   "cell_type": "code",
   "execution_count": 33,
   "metadata": {},
   "outputs": [
    {
     "data": {
      "image/png": "[encoded data removed]",
      "text/plain": [
       "<Figure size 432x288 with 1 Axes>"
      ]
     },
     "metadata": {
      "needs_background": "light"
     },
     "output_type": "display_data"
    }
   ],
   "source": [
    "p1 = plot(stations, bm,c='b',label='Best month',mfc='y',ls='-',marker='.')\n",
    "p2 = plot(stations, wm,c='orange',label='Worst month',mfc='y',ls='-',marker='.')\n",
    "p3 = plot(stations, d,c='r',label='Difference',mfc='y',ls='-',marker='.')\n",
    "xlabel(\"Station number\")\n",
    "ylabel(\"Average time of trips\")\n",
    "legend(loc='best', fontsize = 'small')\n",
    "title('Comparative average time')\n",
    "plt.xticks(rotation=45)\n",
    "plt.rcParams[\"figure.figsize\"] = [16,9] #Ejecutar dos veces para obtener este tamaño\n",
    "plt.savefig(\"analysis.png\")\n",
    "show()"
   ]
  },
  {
   "cell_type": "markdown",
   "metadata": {},
   "source": [
    "En la gráfica podemos observar que salvo en algunas estaciones, la diferencia está en torno al 0, por lo tanto, podemos deducir que, en general, no hay diferencias significativas en el tiempo medio de viajes en los dos meses que estamos analizando.\n",
    "\n",
    "El mejor mes, es el que más viajes tiene, por lo tanto, la media de sus viajes era esperable que fuese más lineal ya que tenemos más datos para realizar una mejor media.\n"
   ]
  },
  {
   "cell_type": "markdown",
   "metadata": {},
   "source": [
    "### PROBLEMA 2. ESTACIONES DE DESTINO\n",
    "\n",
    "Para cada estación, vamos a hallar las 5 estaciones más frecuentes a las \n",
    "que se llega desde un viaje iniciado en la estación considerada.\n",
    "\n",
    "\n",
    "\n",
    "En primer lugar, lo hacemos para el **peor mes**.\n",
    "\n",
    "\n",
    "Hacemos un map para quedarnos únicamente con tuplas de la forma *(estacion de origen, estacion de destino)*.\n",
    "\n",
    "Agrupamos por claves y contamos cuántas veces se repite cada elemento en la segunda componente de la tupla gracias a Counter. Tenemos tuplas en las que la primera componente son las estaciones de origen y la segunda, diccionarios en los que la clave son las estaciones de destino y el valor, la frecuencia con la que aparecen, es decir, cuántos viajes llegan a ella desde la estación de origen.\n",
    "\n",
    "Los ordenamos según la clave.\n",
    "\n",
    "Ordenamos la segunda componente de la tupla, que es un diccionario, en orden decreciente según los valores. Nos quedamos con los cinco primeros.\n",
    "\n",
    "El resultado final es una lista de tuplas de la forma: \n",
    "[(estación de origen, [(estación de destino, viajes entre origen y destino)])]\n",
    "\n",
    "\n"
   ]
  },
  {
   "cell_type": "code",
   "execution_count": 34,
   "metadata": {},
   "outputs": [
    {
     "name": "stderr",
     "output_type": "stream",
     "text": [
      "                                                                                \r"
     ]
    },
    {
     "data": {
      "text/plain": [
       "[(1, [(175, 43), (91, 27), (41, 20), (72, 19), (49, 18)])]"
      ]
     },
     "execution_count": 34,
     "metadata": {},
     "output_type": "execute_result"
    }
   ],
   "source": [
    "from collections import Counter\n",
    "\n",
    "rdd_trips_worst_destinations = rdd_worst_filtered.map(lambda x: (x[0], x[1])).\\\n",
    "                  groupByKey().mapValues(Counter).\\\n",
    "                  sortByKey().\\\n",
    "                  mapValues(lambda y: sorted(y.items(), key=lambda z: z[1], reverse = True)).\\\n",
    "                  mapValues(lambda y: y[:5])\n",
    "\n",
    "\n",
    "rdd_trips_worst_destinations.take(1)"
   ]
  },
  {
   "cell_type": "markdown",
   "metadata": {},
   "source": [
    "Repetimos para el **mejor mes**."
   ]
  },
  {
   "cell_type": "code",
   "execution_count": 35,
   "metadata": {},
   "outputs": [
    {
     "name": "stderr",
     "output_type": "stream",
     "text": [
      "                                                                                \r"
     ]
    },
    {
     "data": {
      "text/plain": [
       "[(1, [(175, 116), (41, 93), (49, 63), (57, 60), (133, 56)])]"
      ]
     },
     "execution_count": 35,
     "metadata": {},
     "output_type": "execute_result"
    }
   ],
   "source": [
    "rdd_trips_best_destinations = rdd_best_filtered.map(lambda x: (x[0], x[1])).\\\n",
    "                  groupByKey().mapValues(Counter).\\\n",
    "                  sortByKey().\\\n",
    "                  mapValues(lambda y: sorted(y.items(), key=lambda z: z[1], reverse = True)).\\\n",
    "                  mapValues(lambda y: y[:5])\n",
    "\n",
    "\n",
    "rdd_trips_best_destinations.take(1)"
   ]
  },
  {
   "cell_type": "markdown",
   "metadata": {},
   "source": [
    "Como podemos ver, desde la estación 1 se repiten tres estaciones entre las más frecuentes de llegada en el mejor y el peor: la 175, la 41 y la 49. \n",
    "\n",
    "Para comparar las estaciones de destino más frecuentes, vamos a calcular para cada estación, cuantas estaciones de llegada más frecuentes se repiten en el mejor y en el peor mes. Vamos a calcular los porcentajes de estaciones en las que se repiten como destinos más frecuentes una estación, dos, tres, cuatro, o todas, en los meses con más y con menos viajes."
   ]
  },
  {
   "cell_type": "code",
   "execution_count": 36,
   "metadata": {},
   "outputs": [],
   "source": [
    "rdd_both_dest = rdd_trips_worst_destinations.union(rdd_trips_best_destinations).map(lambda x: (x[0],[x[1][0][0],x[1][1][0],x[1][2][0],x[1][3][0],x[1][4][0]])).reduceByKey(lambda x,y:x+y).\\\n",
    "           map(lambda x:(x[0],len(set(x[1]))) )\n",
    "total_stations_dest = rdd_both_dest.count() #total number of stations"
   ]
  },
  {
   "cell_type": "code",
   "execution_count": 37,
   "metadata": {},
   "outputs": [],
   "source": [
    "one_station_repeat_dest = rdd_both_dest.filter(lambda x: x[1]==9).count()\n",
    "percentage_one_station_repeated_dest = (one_station_repeat_dest/total_stations_dest)*100"
   ]
  },
  {
   "cell_type": "code",
   "execution_count": 38,
   "metadata": {},
   "outputs": [],
   "source": [
    "two_station_repeat_dest = rdd_both_dest.filter(lambda x: x[1]==8).count()\n",
    "percentage_two_station_repeated_dest = (two_station_repeat_dest/total_stations_dest)*100\n"
   ]
  },
  {
   "cell_type": "code",
   "execution_count": 39,
   "metadata": {},
   "outputs": [],
   "source": [
    "three_station_repeat_dest = rdd_both_dest.filter(lambda x: x[1]==7).count()\n",
    "percentage_three_station_repeated_dest = (three_station_repeat_dest/total_stations_dest)*100"
   ]
  },
  {
   "cell_type": "code",
   "execution_count": 40,
   "metadata": {},
   "outputs": [],
   "source": [
    "four_station_repeat_dest = rdd_both_dest.filter(lambda x: x[1]==6).count()\n",
    "percentage_four_station_repeated_dest = (four_station_repeat_dest/total_stations_dest)*100"
   ]
  },
  {
   "cell_type": "code",
   "execution_count": 41,
   "metadata": {},
   "outputs": [],
   "source": [
    "five_station_repeat_dest = rdd_both_dest.filter(lambda x: x[1]==5).count()\n",
    "percentage_five_station_repeated_dest = (five_station_repeat_dest/total_stations_dest)*100"
   ]
  },
  {
   "cell_type": "code",
   "execution_count": 42,
   "metadata": {},
   "outputs": [],
   "source": [
    "zero_station_repeat_dest = rdd_both_dest.filter(lambda x: x[1]==10).count()\n",
    "percentage_zero_station_repeated_dest = (zero_station_repeat_dest/total_stations_dest)*100"
   ]
  },
  {
   "cell_type": "code",
   "execution_count": 43,
   "metadata": {},
   "outputs": [
    {
     "data": {
      "text/html": [
       "<div>\n",
       "<style scoped>\n",
       "    .dataframe tbody tr th:only-of-type {\n",
       "        vertical-align: middle;\n",
       "    }\n",
       "\n",
       "    .dataframe tbody tr th {\n",
       "        vertical-align: top;\n",
       "    }\n",
       "\n",
       "    .dataframe thead th {\n",
       "        text-align: right;\n",
       "    }\n",
       "</style>\n",
       "<table border=\"1\" class=\"dataframe\">\n",
       "  <thead>\n",
       "    <tr style=\"text-align: right;\">\n",
       "      <th></th>\n",
       "      <th>0 common station repeated</th>\n",
       "      <th>1 common station repeated</th>\n",
       "      <th>2 common station repeated</th>\n",
       "      <th>3 common station repeated</th>\n",
       "      <th>4 common station repeated</th>\n",
       "      <th>5 common station repeated</th>\n",
       "    </tr>\n",
       "  </thead>\n",
       "  <tbody>\n",
       "    <tr>\n",
       "      <th>0</th>\n",
       "      <td>2.777778</td>\n",
       "      <td>20.555556</td>\n",
       "      <td>36.666667</td>\n",
       "      <td>25.0</td>\n",
       "      <td>7.222222</td>\n",
       "      <td>7.777778</td>\n",
       "    </tr>\n",
       "  </tbody>\n",
       "</table>\n",
       "</div>"
      ],
      "text/plain": [
       "   0 common station repeated  1 common station repeated  \\\n",
       "0                   2.777778                  20.555556   \n",
       "\n",
       "   2 common station repeated  3 common station repeated  \\\n",
       "0                  36.666667                       25.0   \n",
       "\n",
       "   4 common station repeated  5 common station repeated  \n",
       "0                   7.222222                   7.777778  "
      ]
     },
     "execution_count": 43,
     "metadata": {},
     "output_type": "execute_result"
    }
   ],
   "source": [
    "repeated_stations_dest = {'0 common station repeated' : [percentage_zero_station_repeated_dest], '1 common station repeated': [percentage_one_station_repeated_dest], '2 common station repeated': [percentage_two_station_repeated_dest], '3 common station repeated': [percentage_three_station_repeated_dest], '4 common station repeated': [percentage_four_station_repeated_dest], '5 common station repeated': [percentage_five_station_repeated_dest]}\n",
    "tabla_repeated_stations_dest = pd.DataFrame(repeated_stations_dest)\n",
    "tabla_repeated_stations_dest"
   ]
  },
  {
   "cell_type": "markdown",
   "metadata": {},
   "source": [
    "Lo que podemos ver es que, para más del 97% de las estaciones, se repite alguna estación de destino más frecuente en el mes con más y con menos viajes. En casi el 8% de las estaciones, los destinos más frecuentes coinciden por completo en el mejor y el peor mes. "
   ]
  },
  {
   "cell_type": "markdown",
   "metadata": {},
   "source": [
    "Quedémosnos con el **problema 1: duración media de los viajes**. Creamos un archivo `my_problem.py` para obtener la gráfica anteriormente mosttrada."
   ]
  },
  {
   "cell_type": "code",
   "execution_count": 44,
   "metadata": {},
   "outputs": [],
   "source": [
    "# Close previous spark context\n",
    "sc.stop()"
   ]
  },
  {
   "cell_type": "code",
   "execution_count": 45,
   "metadata": {},
   "outputs": [
    {
     "name": "stdout",
     "output_type": "stream",
     "text": [
      "Number of arguments: 3 arguments\n",
      "Argument List:['my_problem.py', '201812_Usage_Bicimad.json', '201906_Usage_Bicimad.json']\n",
      "201812_Usage_Bicimad.json\n",
      "201906_Usage_Bicimad.json\n"
     ]
    },
    {
     "name": "stderr",
     "output_type": "stream",
     "text": [
      "                                                                                \r"
     ]
    },
    {
     "data": {
      "image/png": "[encoded data removed]",
      "text/plain": [
       "<Figure size 1152x648 with 1 Axes>"
      ]
     },
     "metadata": {
      "needs_background": "light"
     },
     "output_type": "display_data"
    }
   ],
   "source": [
    "%run -i my_problem.py 201812_Usage_Bicimad.json 201906_Usage_Bicimad.json"
   ]
  },
  {
   "cell_type": "code",
   "execution_count": 46,
   "metadata": {},
   "outputs": [
    {
     "name": "stdout",
     "output_type": "stream",
     "text": [
      "Searching software OAI-PMH\n",
      "Searching Software\n",
      "https://zenodo.org/oai2d?verb=ListRecords&metadataPrefix=oai_datacite&set=user-jordlc\n",
      "[<Element '{http://datacite.org/schema/kernel-3}identifier' at 0x7fd5675c3bf0>, <Element '{http://datacite.org/schema/kernel-3}identifier' at 0x7fd5675d4710>]\n",
      "Checking/download Datasets\n",
      "Type found: json\n",
      "Type found: json\n",
      "Type found: csv\n",
      "Type found: xlsx\n",
      "Type found: json\n",
      "Type found: json\n",
      "Type found: zip\n",
      "https://zenodo.org/api/files/314712e0-2299-48e3-aa23-58413ba50224/dlczip.zip\n",
      "Downloading dlczip.zip\n",
      "[==================================================]Download complete\n",
      "['dlczip.zip']\n"
     ]
    }
   ],
   "source": [
    " #Searching code OAI-PMH\n",
    "print(\"Searching software OAI-PMH\")\n",
    "oai_url = 'https://zenodo.org/oai2d'\n",
    "metadata_formats = get_oai_metadata_formats(oai_url)\n",
    "\n",
    "#TODO hardcoded\n",
    "print(\"Searching Software\")\n",
    "oai_set = 'user-jordlc'\n",
    "dataset_list = search_dataset(oai_url,oai_set,'oai_datacite')\n",
    "print(dataset_list)\n",
    "\n",
    "print(\"Checking/download Datasets\")\n",
    "api_url = 'https://doi.org/'\n",
    "\n",
    "zip_files = check_dataset(dataset_list,api_url,'zip')\n",
    "print(zip_files)"
   ]
  },
  {
   "cell_type": "code",
   "execution_count": 47,
   "metadata": {},
   "outputs": [],
   "source": [
    "import zipfile\n",
    "with zipfile.ZipFile(\"dlczip.zip\",\"r\") as zip_ref:\n",
    "    zip_ref.extractall(path = \"/home/jesus/Escritorio/dlc/dlc_extract\")"
   ]
  },
  {
   "cell_type": "code",
   "execution_count": 48,
   "metadata": {},
   "outputs": [
    {
     "name": "stdout",
     "output_type": "stream",
     "text": [
      "\u001b[0m\u001b[01;34mdlczip\u001b[0m/\r\n"
     ]
    }
   ],
   "source": [
    "ls \"/home/jesus/Escritorio/dlc/dlc_extract\""
   ]
  },
  {
   "cell_type": "code",
   "execution_count": 49,
   "metadata": {},
   "outputs": [
    {
     "name": "stdout",
     "output_type": "stream",
     "text": [
      "201812_Usage_Bicimad.json  201906_Usage_Bicimad.json  my_problem.py\r\n"
     ]
    }
   ],
   "source": [
    "ls \"/home/jesus/Escritorio/dlc/dlc_extract/dlczip\""
   ]
  },
  {
   "cell_type": "markdown",
   "metadata": {},
   "source": [
    "# Análisis de los datos\n"
   ]
  },
  {
   "cell_type": "code",
   "execution_count": 50,
   "metadata": {},
   "outputs": [],
   "source": [
    "sc.stop()"
   ]
  },
  {
   "cell_type": "code",
   "execution_count": 51,
   "metadata": {},
   "outputs": [
    {
     "name": "stdout",
     "output_type": "stream",
     "text": [
      "Number of arguments: 3 arguments\n",
      "Argument List:['/home/jesus/Escritorio/dlc/dlc_extract/dlczip/my_problem.py', '201812_Usage_Bicimad.json', '201906_Usage_Bicimad.json']\n",
      "201812_Usage_Bicimad.json\n",
      "201906_Usage_Bicimad.json\n"
     ]
    },
    {
     "name": "stderr",
     "output_type": "stream",
     "text": [
      "                                                                                \r"
     ]
    },
    {
     "data": {
      "image/png": "[encoded data removed]",
      "text/plain": [
       "<Figure size 1152x648 with 1 Axes>"
      ]
     },
     "metadata": {
      "needs_background": "light"
     },
     "output_type": "display_data"
    }
   ],
   "source": [
    "%run -i /home/jesus/Escritorio/dlc/dlc_extract/dlczip/my_problem.py 201812_Usage_Bicimad.json 201906_Usage_Bicimad.json"
   ]
  },
  {
   "cell_type": "markdown",
   "metadata": {},
   "source": [
    "En la gráfica podemos observar que salvo en algunas estaciones, la diferencia está en torno al 0, por lo tanto, podemos deducir que, en general, no hay diferencias significativas en el tiempo medio de viajes en los dos meses que estamos analizando.\n",
    "\n",
    "El mejor mes, es el que más viajes tiene, por lo tanto, la media de sus viajes era esperable que fuese más lineal ya que tenemos más datos para realizar una mejor media. Además, se trata de un mes de verano así que es probable que muchos usuarios simplememte usen BiciMAD por la gracia de ir en bicicleta eleéctrica. \n"
   ]
  },
  {
   "cell_type": "markdown",
   "metadata": {},
   "source": [
    "### Publicación de los datos:"
   ]
  },
  {
   "cell_type": "code",
   "execution_count": 52,
   "metadata": {},
   "outputs": [
    {
     "data": {
      "text/plain": [
       "200"
      ]
     },
     "execution_count": 52,
     "metadata": {},
     "output_type": "execute_result"
    }
   ],
   "source": [
    "ACCESS_TOKEN = 'bCgiBtkjMjoA4zGpwUHbINltt8aNefVcSHKowt4SUGGPsQLuNu1vBSgn76Ln'\n",
    "connection = requests.get('https://zenodo.org/api/deposit/depositions',params={'access_token': ACCESS_TOKEN})\n",
    "connection.status_code  "
   ]
  },
  {
   "cell_type": "code",
   "execution_count": 53,
   "metadata": {},
   "outputs": [],
   "source": [
    "connection = connection.json()"
   ]
  },
  {
   "cell_type": "code",
   "execution_count": 54,
   "metadata": {},
   "outputs": [
    {
     "name": "stdout",
     "output_type": "stream",
     "text": [
      "NEW ELEMENT FOUND\n",
      "{'conceptdoi': '10.5281/zenodo.5992966', 'conceptrecid': '5992966', 'created': '2022-02-07T08:48:04.063485', 'doi': '10.5281/zenodo.5992967', 'doi_url': 'https://doi.org/10.5281/zenodo.5992967', 'files': [{'checksum': 'f377659bf58fd1d4a3da355f01167d7b', 'filename': 'dlczip.zip', 'filesize': 134432785, 'id': '6753915f-3280-401f-a8c4-e6a6678c5955', 'links': {'download': 'https://zenodo.org/api/files/314712e0-2299-48e3-aa23-58413ba50224/dlczip.zip', 'self': 'https://zenodo.org/api/deposit/depositions/5992967/files/6753915f-3280-401f-a8c4-e6a6678c5955'}}], 'id': 5992967, 'links': {'badge': 'https://zenodo.org/badge/doi/10.5281/zenodo.5992967.svg', 'bucket': 'https://zenodo.org/api/files/21383b78-d70b-41be-8fc1-fb138d2b02e4', 'conceptbadge': 'https://zenodo.org/badge/doi/10.5281/zenodo.5992966.svg', 'conceptdoi': 'https://doi.org/10.5281/zenodo.5992966', 'discard': 'https://zenodo.org/api/deposit/depositions/5992967/actions/discard', 'doi': 'https://doi.org/10.5281/zenodo.5992967', 'edit': 'https://zenodo.org/api/deposit/depositions/5992967/actions/edit', 'files': 'https://zenodo.org/api/deposit/depositions/5992967/files', 'html': 'https://zenodo.org/deposit/5992967', 'latest': 'https://zenodo.org/api/records/5992967', 'latest_html': 'https://zenodo.org/record/5992967', 'publish': 'https://zenodo.org/api/deposit/depositions/5992967/actions/publish', 'record': 'https://zenodo.org/api/records/5992967', 'record_html': 'https://zenodo.org/record/5992967', 'self': 'https://zenodo.org/api/deposit/depositions/5992967'}, 'metadata': {'access_right': 'open', 'communities': [{'identifier': 'jordlc'}], 'creators': [{'name': 'J Octavio'}], 'description': '<p>dlc</p>', 'doi': '10.5281/zenodo.5992967', 'license': 'CC-BY-4.0', 'prereserve_doi': {'doi': '10.5281/zenodo.5992967', 'recid': 5992967}, 'publication_date': '2022-02-07', 'publication_type': 'article', 'title': 'dlczip', 'upload_type': 'publication'}, 'modified': '2022-02-07T08:48:37.965946', 'owner': 293533, 'record_id': 5992967, 'state': 'done', 'submitted': True, 'title': 'dlczip'}\n",
      "\n",
      "\n",
      "NEW ELEMENT FOUND\n",
      "{'conceptdoi': '10.5281/zenodo.5983597', 'conceptrecid': '5983597', 'created': '2022-02-06T11:42:01.524170', 'doi': '10.5281/zenodo.5983598', 'doi_url': 'https://doi.org/10.5281/zenodo.5983598', 'files': [{'checksum': '12bc443572279f2de1e730ad56dc21ca', 'filename': 'dlc.zip', 'filesize': 145214251, 'id': 'd61df352-179c-4bee-87b3-0cf7016d93b9', 'links': {'download': 'https://zenodo.org/api/files/45379e2e-6cbc-4161-b34a-2adc82e0fb6c/dlc.zip', 'self': 'https://zenodo.org/api/deposit/depositions/5983598/files/d61df352-179c-4bee-87b3-0cf7016d93b9'}}], 'id': 5983598, 'links': {'badge': 'https://zenodo.org/badge/doi/10.5281/zenodo.5983598.svg', 'bucket': 'https://zenodo.org/api/files/937cabee-54f1-43ef-974f-a07cf1b78419', 'conceptbadge': 'https://zenodo.org/badge/doi/10.5281/zenodo.5983597.svg', 'conceptdoi': 'https://doi.org/10.5281/zenodo.5983597', 'discard': 'https://zenodo.org/api/deposit/depositions/5983598/actions/discard', 'doi': 'https://doi.org/10.5281/zenodo.5983598', 'edit': 'https://zenodo.org/api/deposit/depositions/5983598/actions/edit', 'files': 'https://zenodo.org/api/deposit/depositions/5983598/files', 'html': 'https://zenodo.org/deposit/5983598', 'latest': 'https://zenodo.org/api/records/5983598', 'latest_html': 'https://zenodo.org/record/5983598', 'publish': 'https://zenodo.org/api/deposit/depositions/5983598/actions/publish', 'record': 'https://zenodo.org/api/records/5983598', 'record_html': 'https://zenodo.org/record/5983598', 'self': 'https://zenodo.org/api/deposit/depositions/5983598'}, 'metadata': {'access_right': 'open', 'communities': [{'identifier': 'jordlc'}], 'creators': [{'name': 'J. Octavio'}], 'description': '<p>zip para la practica 5 de DLC</p>', 'doi': '10.5281/zenodo.5983598', 'license': 'CC-BY-4.0', 'prereserve_doi': {'doi': '10.5281/zenodo.5983598', 'recid': 5983598}, 'publication_date': '2022-02-06', 'title': 'dlczip', 'upload_type': 'other'}, 'modified': '2022-02-06T11:42:45.871647', 'owner': 293533, 'record_id': 5983598, 'state': 'done', 'submitted': True, 'title': 'dlczip'}\n",
      "\n",
      "\n",
      "NEW ELEMENT FOUND\n",
      "{'conceptdoi': '10.5281/zenodo.5983231', 'conceptrecid': '5983231', 'created': '2022-02-06T10:31:13.996184', 'doi': '10.5281/zenodo.5983232', 'doi_url': 'https://doi.org/10.5281/zenodo.5983232', 'files': [{'checksum': '2bd69f61707ddb8c2fff4b56d1021287', 'filename': '201812_Usage_Bicimad.json', 'filesize': 660487127, 'id': '40028f58-9f20-4236-8f98-f8a59dae6430', 'links': {'download': 'https://zenodo.org/api/files/3daacf84-af1d-47ad-8f65-4c69cff42723/201812_Usage_Bicimad.json', 'self': 'https://zenodo.org/api/deposit/depositions/5983232/files/40028f58-9f20-4236-8f98-f8a59dae6430'}}, {'checksum': '9a3b4397d91f879d4966d9b202619fee', 'filename': '201906_Usage_Bicimad.json', 'filesize': 451435629, 'id': '72ee363c-1d1c-438f-bc41-522103522729', 'links': {'download': 'https://zenodo.org/api/files/3daacf84-af1d-47ad-8f65-4c69cff42723/201906_Usage_Bicimad.json', 'self': 'https://zenodo.org/api/deposit/depositions/5983232/files/72ee363c-1d1c-438f-bc41-522103522729'}}, {'checksum': 'aa2065440ed893cfe0ddb1c393f19e94', 'filename': 'bases_bicimad.csv', 'filesize': 35710, 'id': 'a157676f-863c-452a-ad81-fe6e5b3f5352', 'links': {'download': 'https://zenodo.org/api/files/3daacf84-af1d-47ad-8f65-4c69cff42723/bases_bicimad.csv', 'self': 'https://zenodo.org/api/deposit/depositions/5983232/files/a157676f-863c-452a-ad81-fe6e5b3f5352'}}, {'checksum': 'f0cf1ea74b01b4f6bb79e049b3d55664', 'filename': 'bases_bicimad.xlsx', 'filesize': 30611, 'id': '8d83426d-2fc9-49b6-948a-9c0f0af64d2c', 'links': {'download': 'https://zenodo.org/api/files/3daacf84-af1d-47ad-8f65-4c69cff42723/bases_bicimad.xlsx', 'self': 'https://zenodo.org/api/deposit/depositions/5983232/files/8d83426d-2fc9-49b6-948a-9c0f0af64d2c'}}, {'checksum': 'de9af3070472301bd428cfc2dea18e3a', 'filename': 'Bicimad_Stations_201812.json', 'filesize': 36725169, 'id': 'b92e1187-0cf8-44ab-9634-91ab84b565bf', 'links': {'download': 'https://zenodo.org/api/files/3daacf84-af1d-47ad-8f65-4c69cff42723/Bicimad_Stations_201812.json', 'self': 'https://zenodo.org/api/deposit/depositions/5983232/files/b92e1187-0cf8-44ab-9634-91ab84b565bf'}}, {'checksum': 'af55a5f7622e7fc0cdea3f89c062775a', 'filename': 'Bicimad_Stations_201906.json', 'filesize': 35928870, 'id': 'f3ef2e92-3e54-407c-9d78-83bc57e66499', 'links': {'download': 'https://zenodo.org/api/files/3daacf84-af1d-47ad-8f65-4c69cff42723/Bicimad_Stations_201906.json', 'self': 'https://zenodo.org/api/deposit/depositions/5983232/files/f3ef2e92-3e54-407c-9d78-83bc57e66499'}}], 'id': 5983232, 'links': {'badge': 'https://zenodo.org/badge/doi/10.5281/zenodo.5983232.svg', 'bucket': 'https://zenodo.org/api/files/97af30f5-1c61-4501-8600-8a48dd83dd19', 'conceptbadge': 'https://zenodo.org/badge/doi/10.5281/zenodo.5983231.svg', 'conceptdoi': 'https://doi.org/10.5281/zenodo.5983231', 'discard': 'https://zenodo.org/api/deposit/depositions/5983232/actions/discard', 'doi': 'https://doi.org/10.5281/zenodo.5983232', 'edit': 'https://zenodo.org/api/deposit/depositions/5983232/actions/edit', 'files': 'https://zenodo.org/api/deposit/depositions/5983232/files', 'html': 'https://zenodo.org/deposit/5983232', 'latest': 'https://zenodo.org/api/records/5983232', 'latest_html': 'https://zenodo.org/record/5983232', 'publish': 'https://zenodo.org/api/deposit/depositions/5983232/actions/publish', 'record': 'https://zenodo.org/api/records/5983232', 'record_html': 'https://zenodo.org/record/5983232', 'self': 'https://zenodo.org/api/deposit/depositions/5983232'}, 'metadata': {'access_right': 'open', 'communities': [{'identifier': 'jordlc'}], 'creators': [{'name': 'J. Octavio Raboso'}], 'description': '<p>Datasets Practica 5</p>', 'doi': '10.5281/zenodo.5983232', 'license': 'CC-BY-4.0', 'prereserve_doi': {'doi': '10.5281/zenodo.5983232', 'recid': 5983232}, 'publication_date': '2022-02-06', 'title': 'dlc', 'upload_type': 'dataset'}, 'modified': '2022-02-06T10:41:10.200069', 'owner': 293533, 'record_id': 5983232, 'state': 'done', 'submitted': True, 'title': 'dlc'}\n",
      "\n",
      "\n",
      "NEW ELEMENT FOUND\n",
      "{'conceptdoi': '10.5281/zenodo.5982835', 'conceptrecid': '5982835', 'created': '2022-02-06T10:17:52.144342', 'doi': '10.5281/zenodo.5983088', 'doi_url': 'https://doi.org/10.5281/zenodo.5983088', 'files': [{'checksum': '2bd69f61707ddb8c2fff4b56d1021287', 'filename': '201812_Usage_Bicimad.json', 'filesize': 660487127, 'id': '2ec76529-fd73-43d3-a178-769729db6ab9', 'links': {'download': 'https://zenodo.org/api/files/4166628e-352d-4a4f-812e-76b8a3358efd/201812_Usage_Bicimad.json', 'self': 'https://zenodo.org/api/deposit/depositions/5983088/files/2ec76529-fd73-43d3-a178-769729db6ab9'}}, {'checksum': '9a3b4397d91f879d4966d9b202619fee', 'filename': '201906_Usage_Bicimad.json', 'filesize': 451435629, 'id': '860ada54-da53-483b-b16b-6d510009983a', 'links': {'download': 'https://zenodo.org/api/files/4166628e-352d-4a4f-812e-76b8a3358efd/201906_Usage_Bicimad.json', 'self': 'https://zenodo.org/api/deposit/depositions/5983088/files/860ada54-da53-483b-b16b-6d510009983a'}}, {'checksum': 'aa2065440ed893cfe0ddb1c393f19e94', 'filename': 'bases_bicimad.csv', 'filesize': 35710, 'id': '2e702ede-6a44-4da6-b8d5-c50f2bcef359', 'links': {'download': 'https://zenodo.org/api/files/4166628e-352d-4a4f-812e-76b8a3358efd/bases_bicimad.csv', 'self': 'https://zenodo.org/api/deposit/depositions/5983088/files/2e702ede-6a44-4da6-b8d5-c50f2bcef359'}}, {'checksum': 'f0cf1ea74b01b4f6bb79e049b3d55664', 'filename': 'bases_bicimad.xlsx', 'filesize': 30611, 'id': '84878ede-33c2-4e9b-b1b3-521b7026b1b4', 'links': {'download': 'https://zenodo.org/api/files/4166628e-352d-4a4f-812e-76b8a3358efd/bases_bicimad.xlsx', 'self': 'https://zenodo.org/api/deposit/depositions/5983088/files/84878ede-33c2-4e9b-b1b3-521b7026b1b4'}}, {'checksum': 'de9af3070472301bd428cfc2dea18e3a', 'filename': 'Bicimad_Stations_201812.json', 'filesize': 36725169, 'id': 'ad7088cf-147b-4244-bd1a-790f94a0ffd0', 'links': {'download': 'https://zenodo.org/api/files/4166628e-352d-4a4f-812e-76b8a3358efd/Bicimad_Stations_201812.json', 'self': 'https://zenodo.org/api/deposit/depositions/5983088/files/ad7088cf-147b-4244-bd1a-790f94a0ffd0'}}, {'checksum': 'af55a5f7622e7fc0cdea3f89c062775a', 'filename': 'Bicimad_Stations_201906.json', 'filesize': 35928870, 'id': 'f22f58e6-78dd-4026-b115-014761cd17e3', 'links': {'download': 'https://zenodo.org/api/files/4166628e-352d-4a4f-812e-76b8a3358efd/Bicimad_Stations_201906.json', 'self': 'https://zenodo.org/api/deposit/depositions/5983088/files/f22f58e6-78dd-4026-b115-014761cd17e3'}}], 'id': 5983088, 'links': {'badge': 'https://zenodo.org/badge/doi/10.5281/zenodo.5983088.svg', 'bucket': 'https://zenodo.org/api/files/54fcf104-841f-4531-858f-b49be510dcf9', 'conceptbadge': 'https://zenodo.org/badge/doi/10.5281/zenodo.5982835.svg', 'conceptdoi': 'https://doi.org/10.5281/zenodo.5982835', 'discard': 'https://zenodo.org/api/deposit/depositions/5983088/actions/discard', 'doi': 'https://doi.org/10.5281/zenodo.5983088', 'edit': 'https://zenodo.org/api/deposit/depositions/5983088/actions/edit', 'files': 'https://zenodo.org/api/deposit/depositions/5983088/files', 'html': 'https://zenodo.org/deposit/5983088', 'latest': 'https://zenodo.org/api/records/5983088', 'latest_html': 'https://zenodo.org/record/5983088', 'publish': 'https://zenodo.org/api/deposit/depositions/5983088/actions/publish', 'record': 'https://zenodo.org/api/records/5983088', 'record_html': 'https://zenodo.org/record/5983088', 'self': 'https://zenodo.org/api/deposit/depositions/5983088'}, 'metadata': {'access_right': 'open', 'communities': [{'identifier': 'jordlc'}], 'creators': [{'name': 'J'}], 'description': '<p>Dataset</p>', 'doi': '10.5281/zenodo.5983088', 'license': 'CC-BY-4.0', 'prereserve_doi': {'doi': '10.5281/zenodo.5983088', 'recid': 5983088}, 'publication_date': '2022-02-06', 'title': 'DLC', 'upload_type': 'dataset'}, 'modified': '2022-02-06T10:18:07.238412', 'owner': 293533, 'record_id': 5983088, 'state': 'done', 'submitted': True, 'title': 'DLC'}\n",
      "\n",
      "\n",
      "NEW ELEMENT FOUND\n",
      "{'conceptdoi': '10.5281/zenodo.5982644', 'conceptrecid': '5982644', 'created': '2022-02-06T09:25:41.303982', 'doi': '10.5281/zenodo.5982645', 'doi_url': 'https://doi.org/10.5281/zenodo.5982645', 'files': [{'checksum': '2bd69f61707ddb8c2fff4b56d1021287', 'filename': '201812_Usage_Bicimad.json', 'filesize': 660487127, 'id': 'd512a341-635c-4112-bf16-92a92860200a', 'links': {'download': 'https://zenodo.org/api/files/642170eb-b79f-4657-8dd9-a6dd2039451d/201812_Usage_Bicimad.json', 'self': 'https://zenodo.org/api/deposit/depositions/5982645/files/d512a341-635c-4112-bf16-92a92860200a'}}, {'checksum': '9a3b4397d91f879d4966d9b202619fee', 'filename': '201906_Usage_Bicimad.json', 'filesize': 451435629, 'id': '921b23fd-d2d6-4243-aa55-f933c8a1a44a', 'links': {'download': 'https://zenodo.org/api/files/642170eb-b79f-4657-8dd9-a6dd2039451d/201906_Usage_Bicimad.json', 'self': 'https://zenodo.org/api/deposit/depositions/5982645/files/921b23fd-d2d6-4243-aa55-f933c8a1a44a'}}, {'checksum': 'f0cf1ea74b01b4f6bb79e049b3d55664', 'filename': 'bases_bicimad.xlsx', 'filesize': 30611, 'id': '1e33328b-610a-4d05-a2cd-62fa422d367f', 'links': {'download': 'https://zenodo.org/api/files/642170eb-b79f-4657-8dd9-a6dd2039451d/bases_bicimad.xlsx', 'self': 'https://zenodo.org/api/deposit/depositions/5982645/files/1e33328b-610a-4d05-a2cd-62fa422d367f'}}, {'checksum': 'de9af3070472301bd428cfc2dea18e3a', 'filename': 'Bicimad_Stations_201812.json', 'filesize': 36725169, 'id': '38ae4d24-91ee-4976-a7f1-6b7513ea83c1', 'links': {'download': 'https://zenodo.org/api/files/642170eb-b79f-4657-8dd9-a6dd2039451d/Bicimad_Stations_201812.json', 'self': 'https://zenodo.org/api/deposit/depositions/5982645/files/38ae4d24-91ee-4976-a7f1-6b7513ea83c1'}}, {'checksum': 'af55a5f7622e7fc0cdea3f89c062775a', 'filename': 'Bicimad_Stations_201906.json', 'filesize': 35928870, 'id': '35f9dd40-38b1-4f5e-8edd-2a69ec62c7ec', 'links': {'download': 'https://zenodo.org/api/files/642170eb-b79f-4657-8dd9-a6dd2039451d/Bicimad_Stations_201906.json', 'self': 'https://zenodo.org/api/deposit/depositions/5982645/files/35f9dd40-38b1-4f5e-8edd-2a69ec62c7ec'}}], 'id': 5982645, 'links': {'badge': 'https://zenodo.org/badge/doi/10.5281/zenodo.5982645.svg', 'bucket': 'https://zenodo.org/api/files/9c5c3b49-8b84-4769-be90-b1d26edd06ac', 'conceptbadge': 'https://zenodo.org/badge/doi/10.5281/zenodo.5982644.svg', 'conceptdoi': 'https://doi.org/10.5281/zenodo.5982644', 'discard': 'https://zenodo.org/api/deposit/depositions/5982645/actions/discard', 'doi': 'https://doi.org/10.5281/zenodo.5982645', 'edit': 'https://zenodo.org/api/deposit/depositions/5982645/actions/edit', 'files': 'https://zenodo.org/api/deposit/depositions/5982645/files', 'html': 'https://zenodo.org/deposit/5982645', 'latest': 'https://zenodo.org/api/records/5982645', 'latest_html': 'https://zenodo.org/record/5982645', 'publish': 'https://zenodo.org/api/deposit/depositions/5982645/actions/publish', 'record': 'https://zenodo.org/api/records/5982645', 'record_html': 'https://zenodo.org/record/5982645', 'self': 'https://zenodo.org/api/deposit/depositions/5982645'}, 'metadata': {'access_right': 'open', 'communities': [{'identifier': 'biosyslit'}, {'identifier': 'zenodo'}], 'creators': [{'name': 'J. Octavio'}], 'description': '<p>Datasets practica 5 DLC</p>', 'doi': '10.5281/zenodo.5982645', 'keywords': ['BiciMad, DLC'], 'language': 'spa', 'license': 'CC-BY-4.0', 'prereserve_doi': {'doi': '10.5281/zenodo.5982645', 'recid': 5982645}, 'publication_date': '2022-02-06', 'title': 'DLC MASTER CIENCIA DE DATOS', 'upload_type': 'dataset'}, 'modified': '2022-02-06T09:48:55.937377', 'owner': 293533, 'record_id': 5982645, 'state': 'inprogress', 'submitted': True, 'title': 'DLC MASTER CIENCIA DE DATOS'}\n",
      "\n",
      "\n",
      "NEW ELEMENT FOUND\n",
      "{'conceptdoi': '10.5281/zenodo.5926119', 'conceptrecid': '5926119', 'created': '2022-01-31T09:55:56.735342', 'doi': '10.5281/zenodo.5926120', 'doi_url': 'https://doi.org/10.5281/zenodo.5926120', 'files': [{'checksum': '2bd69f61707ddb8c2fff4b56d1021287', 'filename': '201812_Usage_Bicimad.json', 'filesize': 660487127, 'id': 'ddaf5771-9d50-475d-8c32-f2042c9119b2', 'links': {'download': 'https://zenodo.org/api/files/5929863c-8b57-469e-949d-45377019b90e/201812_Usage_Bicimad.json', 'self': 'https://zenodo.org/api/deposit/depositions/5926120/files/ddaf5771-9d50-475d-8c32-f2042c9119b2'}}, {'checksum': '9a3b4397d91f879d4966d9b202619fee', 'filename': '201906_Usage_Bicimad.json', 'filesize': 451435629, 'id': 'e5ac466b-a5aa-4f21-9f52-f78e0fa3b8ec', 'links': {'download': 'https://zenodo.org/api/files/5929863c-8b57-469e-949d-45377019b90e/201906_Usage_Bicimad.json', 'self': 'https://zenodo.org/api/deposit/depositions/5926120/files/e5ac466b-a5aa-4f21-9f52-f78e0fa3b8ec'}}, {'checksum': 'f0cf1ea74b01b4f6bb79e049b3d55664', 'filename': 'bases_bicimad.xlsx', 'filesize': 30611, 'id': 'aa15b594-26ae-4da9-bc68-ec5b3e63bd8e', 'links': {'download': 'https://zenodo.org/api/files/5929863c-8b57-469e-949d-45377019b90e/bases_bicimad.xlsx', 'self': 'https://zenodo.org/api/deposit/depositions/5926120/files/aa15b594-26ae-4da9-bc68-ec5b3e63bd8e'}}, {'checksum': 'de9af3070472301bd428cfc2dea18e3a', 'filename': 'Bicimad_Stations_201812.json', 'filesize': 36725169, 'id': '64b333f3-8266-4d30-bc95-982b22b6eb16', 'links': {'download': 'https://zenodo.org/api/files/5929863c-8b57-469e-949d-45377019b90e/Bicimad_Stations_201812.json', 'self': 'https://zenodo.org/api/deposit/depositions/5926120/files/64b333f3-8266-4d30-bc95-982b22b6eb16'}}, {'checksum': 'af55a5f7622e7fc0cdea3f89c062775a', 'filename': 'Bicimad_Stations_201906.json', 'filesize': 35928870, 'id': 'a2f93ccb-c0cf-4468-a403-e07bee1694c5', 'links': {'download': 'https://zenodo.org/api/files/5929863c-8b57-469e-949d-45377019b90e/Bicimad_Stations_201906.json', 'self': 'https://zenodo.org/api/deposit/depositions/5926120/files/a2f93ccb-c0cf-4468-a403-e07bee1694c5'}}], 'id': 5926120, 'links': {'badge': 'https://zenodo.org/badge/doi/10.5281/zenodo.5926120.svg', 'bucket': 'https://zenodo.org/api/files/297d69b1-38e1-4d6c-8144-f1cd6f39da7c', 'conceptbadge': 'https://zenodo.org/badge/doi/10.5281/zenodo.5926119.svg', 'conceptdoi': 'https://doi.org/10.5281/zenodo.5926119', 'discard': 'https://zenodo.org/api/deposit/depositions/5926120/actions/discard', 'doi': 'https://doi.org/10.5281/zenodo.5926120', 'edit': 'https://zenodo.org/api/deposit/depositions/5926120/actions/edit', 'files': 'https://zenodo.org/api/deposit/depositions/5926120/files', 'html': 'https://zenodo.org/deposit/5926120', 'latest': 'https://zenodo.org/api/records/5926120', 'latest_html': 'https://zenodo.org/record/5926120', 'publish': 'https://zenodo.org/api/deposit/depositions/5926120/actions/publish', 'record': 'https://zenodo.org/api/records/5926120', 'record_html': 'https://zenodo.org/record/5926120', 'self': 'https://zenodo.org/api/deposit/depositions/5926120'}, 'metadata': {'access_right': 'open', 'creators': [{'name': 'J. Octavio'}], 'description': '<p>Datasets necesarios para realizar la pr&aacute;ctica 5 de la asignatura Ciclo de Vida de los Datos del M&aacute;ster en Ciencia de Datos UC-UIMP</p>', 'doi': '10.5281/zenodo.5926120', 'keywords': ['BiciMad, Data Life Cycle'], 'language': 'spa', 'license': 'CC-BY-4.0', 'prereserve_doi': {'doi': '10.5281/zenodo.5926120', 'recid': 5926120}, 'publication_date': '2022-01-31', 'publication_type': 'other', 'title': 'UIMP-UC: Data Life Cycle', 'upload_type': 'publication'}, 'modified': '2022-01-31T10:11:47.466086', 'owner': 293533, 'record_id': 5926120, 'state': 'done', 'submitted': True, 'title': 'UIMP-UC: Data Life Cycle'}\n",
      "\n",
      "\n"
     ]
    }
   ],
   "source": [
    "i = 0\n",
    "for elem in connection:\n",
    "    print(\"NEW ELEMENT FOUND\")\n",
    "    print(elem)\n",
    "    print(\"\\n\")\n",
    "    i = i+1"
   ]
  },
  {
   "cell_type": "code",
   "execution_count": 55,
   "metadata": {},
   "outputs": [
    {
     "name": "stdout",
     "output_type": "stream",
     "text": [
      "6\n"
     ]
    }
   ],
   "source": [
    "print(i)"
   ]
  },
  {
   "cell_type": "markdown",
   "metadata": {},
   "source": [
    "He estado haciendo varias pruebas Están bien. Deben salir 6."
   ]
  },
  {
   "cell_type": "markdown",
   "metadata": {},
   "source": [
    "Usamos la **nueva API** de Zenodo. Hacemos un PUT request al link del bucket. El bucket es una carpeta que contiene los elementos que queremos subir. "
   ]
  },
  {
   "cell_type": "code",
   "execution_count": 56,
   "metadata": {},
   "outputs": [
    {
     "data": {
      "text/plain": [
       "'https://zenodo.org/api/files/97af30f5-1c61-4501-8600-8a48dd83dd19'"
      ]
     },
     "execution_count": 56,
     "metadata": {},
     "output_type": "execute_result"
    }
   ],
   "source": [
    "bucket_url = connection[2][\"links\"][\"bucket\"]\n",
    "bucket_url"
   ]
  },
  {
   "cell_type": "code",
   "execution_count": 60,
   "metadata": {},
   "outputs": [],
   "source": [
    "filename = \"analysis.png\"\n",
    "params = {'access_token': ACCESS_TOKEN}\n",
    "path = \"/home/jesus/Escritorio/dlc/%s\" % filename\n",
    "with open(path, \"rb\") as fp:\n",
    "    r = requests.put(\"%s/%s\" % (bucket_url, filename),\n",
    "                    data=fp,\n",
    "                    params=params,\n",
    "    )"
   ]
  },
  {
   "cell_type": "markdown",
   "metadata": {},
   "source": [
    "*: HTTPSConnectionPool(host='zenodo.org', port=443): Max retries exceeded with url: /api/files/97af30f5-1c61-4501-8600-8a48dd83dd19/analysis.png?access_token=bCgiBtkjMjoA4zGpwUHbINltt8aNefVcSHKowt4SUGGPsQLuNu1vBSgn76Ln (Caused by NewConnectionError('<urllib3.connection.HTTPSConnection object at 0x7fd564f6f150>: Failed to establish a new connection: [Errno 110] Connection timed out'))*"
   ]
  },
  {
   "cell_type": "code",
   "execution_count": 62,
   "metadata": {},
   "outputs": [
    {
     "data": {
      "text/plain": [
       "403"
      ]
     },
     "execution_count": 62,
     "metadata": {},
     "output_type": "execute_result"
    }
   ],
   "source": [
    "r.status_code"
   ]
  },
  {
   "cell_type": "code",
   "execution_count": 63,
   "metadata": {},
   "outputs": [
    {
     "data": {
      "text/plain": [
       "{'status': 403, 'message': 'Bucket is locked for modifications.'}"
      ]
     },
     "execution_count": 63,
     "metadata": {},
     "output_type": "execute_result"
    }
   ],
   "source": [
    "r.json()"
   ]
  },
  {
   "cell_type": "markdown",
   "metadata": {},
   "source": [
    "Usando la **antigua API**:\n"
   ]
  },
  {
   "cell_type": "code",
   "execution_count": 64,
   "metadata": {},
   "outputs": [
    {
     "data": {
      "text/plain": [
       "5983232"
      ]
     },
     "execution_count": 64,
     "metadata": {},
     "output_type": "execute_result"
    }
   ],
   "source": [
    "connection[2][\"id\"]"
   ]
  },
  {
   "cell_type": "code",
   "execution_count": 65,
   "metadata": {},
   "outputs": [
    {
     "data": {
      "text/plain": [
       "403"
      ]
     },
     "execution_count": 65,
     "metadata": {},
     "output_type": "execute_result"
    }
   ],
   "source": [
    "deposition_id = connection[2][\"id\"]\n",
    "data = {'name': 'analysis.png'}\n",
    "files = {'file': open('plot.py', 'rb')}\n",
    "r = requests.post('https://zenodo.org/api/deposit/depositions/%s/files' % deposition_id,\n",
    "                  params={'access_token': ACCESS_TOKEN}, data=data,\n",
    "                  files=files)\n",
    "r.status_code"
   ]
  },
  {
   "cell_type": "code",
   "execution_count": 66,
   "metadata": {},
   "outputs": [
    {
     "data": {
      "text/plain": [
       "403"
      ]
     },
     "execution_count": 66,
     "metadata": {},
     "output_type": "execute_result"
    }
   ],
   "source": [
    "data = {\n",
    "    'metadata': {\n",
    "        'title': 'My first upload',\n",
    "        'upload_type': 'poster',\n",
    "        'description': 'This is my first upload',\n",
    "        'creators': [{'name': 'J, OR',\n",
    "                      'affiliation': 'NONE'}]\n",
    "    }\n",
    "}\n",
    "\n",
    "headers = {'accept': 'application/json'}\n",
    "r = requests.put('https://zenodo.org/api/deposit/depositions/%s' % deposition_id,\n",
    "                 params={'access_token': ACCESS_TOKEN}, data=json.dumps(data),\n",
    "                 headers=headers)\n",
    "r.status_code"
   ]
  },
  {
   "cell_type": "markdown",
   "metadata": {},
   "source": [
    "## UNABLE TO UPLOAD VIA API. "
   ]
  }
 ],
 "metadata": {
  "kernelspec": {
   "display_name": "Python 3 (ipykernel)",
   "language": "python",
   "name": "python3"
  },
  "language_info": {
   "codemirror_mode": {
    "name": "ipython",
    "version": 3
   },
   "file_extension": ".py",
   "mimetype": "text/x-python",
   "name": "python",
   "nbconvert_exporter": "python",
   "pygments_lexer": "ipython3",
   "version": "3.7.10"
  }
 },
 "nbformat": 4,
 "nbformat_minor": 2
}
